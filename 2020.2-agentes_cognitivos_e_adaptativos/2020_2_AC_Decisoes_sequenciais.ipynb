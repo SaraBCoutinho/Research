{
  "nbformat": 4,
  "nbformat_minor": 0,
  "metadata": {
    "colab": {
      "provenance": []
    },
    "kernelspec": {
      "name": "python3",
      "display_name": "Python 3"
    },
    "language_info": {
      "name": "python"
    }
  },
  "cells": [
    {
      "cell_type": "markdown",
      "metadata": {
        "id": "V7gFXA9fSZQW"
      },
      "source": [
        "# Exercicio - Decisoes Sequenciais"
      ]
    },
    {
      "cell_type": "markdown",
      "metadata": {
        "id": "MYrQTjlKSmiE"
      },
      "source": [
        "Exercicio feito com base no exemplo demonstrado durante a aula de Agentes Cognitivos e Adaptativos sobre decisoes sequenciais. "
      ]
    },
    {
      "cell_type": "code",
      "metadata": {
        "colab": {
          "base_uri": "https://localhost:8080/"
        },
        "id": "L52cOLL6Knlv",
        "outputId": "63fc733e-e0e1-4163-9ab2-317c63e91da9"
      },
      "source": [
        "# Preparando o ambiente para usar R no colab\n",
        "%load_ext rpy2.ipython"
      ],
      "execution_count": null,
      "outputs": [
        {
          "output_type": "stream",
          "text": [
            "The rpy2.ipython extension is already loaded. To reload it, use:\n",
            "  %reload_ext rpy2.ipython\n"
          ],
          "name": "stdout"
        }
      ]
    },
    {
      "cell_type": "code",
      "metadata": {
        "id": "yc48YtauRqtV"
      },
      "source": [
        "%%R\n",
        "# definição das matrizes de transição T(s,a,s')\n",
        "T_up = matrix(0,12,12)"
      ],
      "execution_count": null,
      "outputs": []
    },
    {
      "cell_type": "code",
      "metadata": {
        "id": "SsnX4w5LRrDO"
      },
      "source": [
        "# Probabilidades da ação UP ao ser aplicada de um estado para outro \n",
        "%%R\n",
        "T_up[1,4] = 0.1\n",
        "T_up[1,1] = 0.1\n",
        "T_up[1,2] = 0.8\n",
        "T_up[2,2] = 0.1\n",
        "T_up[2,3] = 0.8\n",
        "T_up[2,5] = 0.1\n",
        "T_up[3,6] = 0.1\n",
        "T_up[3,3] = 0.9\n",
        "T_up[4,7] = 0.1\n",
        "T_up[4,5] = 0.8\n",
        "T_up[4,1] = 0.1 \n",
        "T_up[6,9] = 0.1\n",
        "T_up[6,3] = 0.1 \n",
        "T_up[6,6] = 0.8\n",
        "T_up[7,10] = 0.1\n",
        "T_up[7,7] = 0.1 \n",
        "T_up[7,8] = 0.8 \n",
        "T_up[8,11] = 0.1\n",
        "T_up[8,5] = 0.1 \n",
        "T_up[8,8] = 0.8 \n",
        "T_up[9,12] = 0.1\n",
        "T_up[9,6] = 0.1\n",
        "T_up[9,9] = 0.8\n"
      ],
      "execution_count": null,
      "outputs": []
    },
    {
      "cell_type": "code",
      "metadata": {
        "id": "n10Qam-5RrGa"
      },
      "source": [
        "# Probabilidades da ação DOWN ao ser aplicada de um estado para outro \n",
        "%%R\n",
        "T_down = matrix(0,12,12) \n",
        "T_down[1,1] = 0.9 \n",
        "T_down[1,4] = 0.1 \n",
        "T_down[2,1] = 0.8 \n",
        "T_down[2,2] = 0.1\n",
        "T_down[2,5] = 0.1\n",
        "T_down[3,2] = 0.8 \n",
        "T_down[3,3] = 0.1 \n",
        "T_down[3,6] = 0.1 \n",
        "T_down[4,1] = 0.1 \n",
        "T_down[4,7] = 0.1 \n",
        "T_down[4,4] = 0.8 \n",
        "T_down[6,5] = 0.8 \n",
        "T_down[6,3] = 0.1\n",
        "T_down[6,9] = 0.1\n",
        "T_down[7,7] = 0.8\n",
        "T_down[7,4] = 0.1\n",
        "T_down[7,10] = 0.1\n",
        "T_down[8,7] = 0.8\n",
        "T_down[8,5] = 0.1\n",
        "T_down[8,11] = 0.1\n",
        "T_down[9,8] = 0.8\n",
        "T_down[9,6] = 0.1\n",
        "T_down[9,12] = 0.1\n"
      ],
      "execution_count": null,
      "outputs": []
    },
    {
      "cell_type": "code",
      "metadata": {
        "id": "Y92mBNmKRrIi"
      },
      "source": [
        "# Probabilidades da ação LEFT ao ser aplicada de um estado para outro \n",
        "%%R\n",
        "T_left = matrix(0,12,12) \n",
        "T_left[1,1] = 0.9\n",
        "T_left[1,2] = 0.1\n",
        "T_left[2,1] = 0.1\n",
        "T_left[2,3] = 0.1\n",
        "T_left[2,2] = 0.8\n",
        "T_left[3,3] = 0.9\n",
        "T_left[3,2] = 0.1\n",
        "T_left[4,1] = 0.8\n",
        "T_left[4,4] = 0.1\n",
        "T_left[4,5] = 0.1\n",
        "T_left[6,3] = 0.8\n",
        "T_left[6,5] = 0.1\n",
        "T_left[6,6] = 0.1\n",
        "T_left[7,4] = 0.8\n",
        "T_left[7,7] = 0.1\n",
        "T_left[7,8] = 0.1\n",
        "T_left[8,5] = 0.8\n",
        "T_left[8,9] = 0.1\n",
        "T_left[8,7] = 0.1\n",
        "T_left[9,6] = 0.8\n",
        "T_left[9,9] = 0.1\n",
        "T_left[9,8] = 0.1"
      ],
      "execution_count": null,
      "outputs": []
    },
    {
      "cell_type": "code",
      "metadata": {
        "id": "7Vsy8LldRrK1"
      },
      "source": [
        "# Probabilidades da ação RIGHT ao ser aplicada de um estado para outro \n",
        "%%R\n",
        "T_right = matrix(0,12,12) \n",
        "T_right[1,4] = 0.8\n",
        "T_right[1,1] = 0.1\n",
        "T_right[1,2] = 0.1\n",
        "T_right[2,5] = 0.8\n",
        "T_right[2,1] = 0.1\n",
        "T_right[2,3] = 0.1\n",
        "T_right[3,6] = 0.8\n",
        "T_right[3,3] = 0.1\n",
        "T_right[3,2] = 0.1\n",
        "T_right[4,7] = 0.8\n",
        "T_right[4,5] = 0.1\n",
        "T_right[4,4] = 0.1\n",
        "T_right[6,9] = 0.8\n",
        "T_right[6,6] = 0.1\n",
        "T_right[6,5] = 0.1\n",
        "T_right[7,7] = 0.1\n",
        "T_right[7,10] = 0.8\n",
        "T_right[7,8] = 0.1\n",
        "T_right[8,11] = 0.8\n",
        "T_right[8,7] = 0.1\n",
        "T_right[8,9] = 0.1\n",
        "T_right[9,12] =0.8\n",
        "T_right[9,9] = 0.1\n",
        "T_right[9,8] = 0.1"
      ],
      "execution_count": null,
      "outputs": []
    },
    {
      "cell_type": "code",
      "metadata": {
        "colab": {
          "base_uri": "https://localhost:8080/"
        },
        "id": "3VybYOMaRrNW",
        "outputId": "96cec8b2-4cfa-4b37-c8cd-6af88afbb7ba"
      },
      "source": [
        "%%R\n",
        "# Função construida a fim de atualizar a cada iteraçao os valores da função de utilidade dos estados \n",
        "update_value <- function(T_up,T_down,T_right,T_left,rw,value){\n",
        "# Para o INPUT:\n",
        "  # T_up,T_down,T_right,T_left: sao as matrizes de transição de estados para cada ação\n",
        "  # rw: vetor de recompensas para cada estado. \n",
        "  # value: vetor de utilidades dos estados atual (12 posições) \n",
        "# Para o OUTPUT: \n",
        "  # value_aux: vetor de utilidade atualizada a partir das equaçoes de Bellman  \n",
        "  value_aux = matrix(0,1,12)\n",
        "  # para cada um dos estados aplicaçao da equação de Bellman \n",
        "  for (s in 1:12){\n",
        "    # calculo da utilidade associação a cada ação considerado o estado s\n",
        "    v_up = T_up[s,] %*% t(value)   \n",
        "    v_down = T_down[s,] %*% t(value)\n",
        "    v_left = T_left[s,] %*% t(value)\n",
        "    v_right = T_right[s,] %*% t(value)\n",
        "    # equação de Bellman aplicada ao estado s\n",
        "    value_aux[1,s] = rw[1,s] + max(c(v_up,v_down,v_left,v_right)) \n",
        "  }\n",
        "  value = value_aux\n",
        "  \n",
        "  # aqui eh uma funcao para imprimir as utilidades de uma grade\n",
        "  aux = matrix(0,3,4)\n",
        "  aux[1,] = c(value[3],value[6],value[9],value[12])\n",
        "  aux[2,] = c(value[2],value[5],value[8],value[11])\n",
        "  aux[3,] = c(value[1],value[4],value[7],value[10])\n",
        "  print(aux)\n",
        "  return(value_aux)\n",
        "}\n",
        "\n",
        "# função para calcular a política a partir das utilidades \n",
        "return_policy <- function(T_up,T_down,T_right,T_left,value){\n",
        "  policy = cbind()\n",
        "  # obs.: somente 8 estados porque não ha ação aplicada nos dois estados terminais\n",
        "  for (s in c(1:4,6:9)){\n",
        "    # calculando a utildade de cada ação ao estado s  \n",
        "    v_up = T_up[s,] %*% t(value)   \n",
        "    v_down = T_down[s,] %*% t(value)\n",
        "    v_left = T_left[s,] %*% t(value)\n",
        "    v_right = T_right[s,] %*% t(value)\n",
        "    # escolhendo para o estado s a ação com maxima utilidade esperada\n",
        "    policy = cbind(policy,which.max(c(v_up,v_down,v_left,v_right)))}\n",
        "  \n",
        "  # função para imprimir a política em uma grade\n",
        "  actions = c(\"UP\",\"DW\",\"LF\",\"RG\")\n",
        "  s1 = paste(actions[policy[3]],actions[policy[5]],actions[policy[8]],\"+1\")\n",
        "  s2 = paste(actions[policy[2]],\"-0.5\",actions[policy[7]],\"-1\")\n",
        "  s3 = paste(actions[policy[1]],actions[policy[4]],actions[policy[6]],\"+0.2\")\n",
        "  cat(\"\\n\",s1,\"\\n\",s2,\"\\n\",s3)\n",
        "  return(policy)\n",
        "}    \n",
        "# EXECUÇÃO - INICIALIzAÇÃO DAS RECOMPENSAS\n",
        "rw = matrix(-0.4,1,12)\n",
        "rw[1,5] =-0.5\n",
        "rw[1,10] = 0.2\n",
        "rw[1,11] = -1\n",
        "rw[1,12] = 1\n",
        "# INICIALIZADO OS VALORES DE UTILIDADE COM ZERO - PODEM SER?VALORES ALEATORIOS\n",
        "value = matrix(0,1,12)\n",
        "# aplicando as equações de Bellman durante 10 iterações \n",
        "for(i in 1:10){\n",
        "  value = update_value(T_up,T_down,T_right,T_left,rw,value)\n",
        "}\n",
        "# retornando a politica final\n",
        "policy = return_policy(T_up,T_down,T_right,T_left,value)\n"
      ],
      "execution_count": null,
      "outputs": [
        {
          "output_type": "stream",
          "text": [
            "     [,1] [,2] [,3] [,4]\n",
            "[1,] -0.4 -0.4 -0.4  1.0\n",
            "[2,] -0.4 -0.5 -0.4 -1.0\n",
            "[3,] -0.4 -0.4 -0.4  0.2\n",
            "     [,1] [,2]  [,3] [,4]\n",
            "[1,] -0.8 -0.8  0.32  1.0\n",
            "[2,] -0.8 -0.5 -0.87 -1.0\n",
            "[3,] -0.8 -0.8 -0.32  0.2\n",
            "      [,1]   [,2]   [,3] [,4]\n",
            "[1,] -1.20 -0.274  0.345  1.0\n",
            "[2,] -0.96 -0.500 -0.800 -1.0\n",
            "[3,] -1.20 -0.786 -0.359  0.2\n",
            "        [,1]    [,2]    [,3] [,4]\n",
            "[1,] -0.8352 -0.2014  0.3545  1.0\n",
            "[2,] -1.0400 -0.5000 -0.8014 -1.0\n",
            "[3,] -1.2448 -0.8158 -0.3559  0.2\n",
            "         [,1]     [,2]     [,3] [,4]\n",
            "[1,] -0.74864 -0.18654  0.35531  1.0\n",
            "[2,] -1.00800 -0.50000 -0.80014 -1.0\n",
            "[3,] -1.28112 -0.81630 -0.35573  0.2\n",
            "          [,1]      [,2]      [,3] [,4]\n",
            "[1,] -0.724896 -0.184406  0.355517  1.0\n",
            "[2,] -1.002976 -0.500000 -0.800042 -1.0\n",
            "[3,] -1.281952 -0.816214 -0.355587  0.2\n",
            "          [,1]      [,2]       [,3] [,4]\n",
            "[1,] -0.720312 -0.184027  0.3555475  1.0\n",
            "[2,] -1.000685 -0.500000 -0.8000070 -1.0\n",
            "[3,] -1.281464 -0.816091 -0.3555629  0.2\n",
            "           [,1]       [,2]       [,3] [,4]\n",
            "[1,] -0.7193213 -0.1839647  0.3555540  1.0\n",
            "[2,] -1.0001776 -0.5000000 -0.8000015 -1.0\n",
            "[3,] -1.2810877 -0.8160594 -0.3555570  0.2\n",
            "           [,1]       [,2]       [,3] [,4]\n",
            "[1,] -0.7191216 -0.1839532  0.3555553  1.0\n",
            "[2,] -1.0000409 -0.5000000 -0.8000003 -1.0\n",
            "[3,] -1.2809741 -0.8160515 -0.3555559  0.2\n",
            "           [,1]       [,2]       [,3] [,4]\n",
            "[1,] -0.7190788 -0.1839511  0.3555555  1.0\n",
            "[2,] -1.0000096 -0.5000000 -0.8000001 -1.0\n",
            "[3,] -1.2809427 -0.8160498 -0.3555556  0.2\n",
            "\n",
            " RG RG RG +1 \n",
            " RG -0.5 LF -1 \n",
            " RG RG RG +0.2"
          ],
          "name": "stdout"
        }
      ]
    }
  ]
}