{
  "nbformat": 4,
  "nbformat_minor": 0,
  "metadata": {
    "accelerator": "GPU",
    "colab": {
      "provenance": [],
      "collapsed_sections": [
        "D-62cCtf3N3E"
      ],
      "toc_visible": true
    },
    "kernelspec": {
      "display_name": "Python 3",
      "language": "python",
      "name": "python3"
    },
    "language_info": {
      "codemirror_mode": {
        "name": "ipython",
        "version": 3
      },
      "file_extension": ".py",
      "mimetype": "text/x-python",
      "name": "python",
      "nbconvert_exporter": "python",
      "pygments_lexer": "ipython3",
      "version": "3.7.1"
    }
  },
  "cells": [
    {
      "cell_type": "markdown",
      "metadata": {
        "id": "FRSkH7yetdpr"
      },
      "source": [
        "# IMPORTS"
      ]
    },
    {
      "cell_type": "code",
      "metadata": {
        "id": "rMn-k4Skl9wH",
        "outputId": "a4161b10-ded0-4a8c-c54c-63e08c8f6650"
      },
      "source": [
        "!pip install pandas\n",
        "!pip install numpy"
      ],
      "execution_count": null,
      "outputs": [
        {
          "name": "stdout",
          "output_type": "stream",
          "text": [
            "Collecting pandas\n",
            "  Using cached https://files.pythonhosted.org/packages/00/08/8ef0163451d9df896e53743c58e53162845ab1788957d194988ce3a6b301/pandas-1.3.2-cp37-cp37m-macosx_10_9_x86_64.whl\n",
            "Collecting numpy>=1.17.3 (from pandas)\n",
            "\u001b[?25l  Downloading https://files.pythonhosted.org/packages/e0/54/49206c6aba7d0e7d5a6e2f5b6760a00e35bb705e9d2be007be0a16e4ba40/numpy-1.21.2-cp37-cp37m-macosx_10_9_x86_64.whl (16.9MB)\n",
            "\u001b[K    100% |████████████████████████████████| 16.9MB 22kB/s  eta 0:00:01   24% |████████                        | 4.2MB 13.0MB/s eta 0:00:01██████                   | 6.8MB 28.1MB/s eta 0:00:01\n",
            "\u001b[?25hRequirement already satisfied: pytz>=2017.3 in /anaconda3/lib/python3.7/site-packages (from pandas) (2021.1)\n",
            "Requirement already satisfied: python-dateutil>=2.7.3 in /anaconda3/lib/python3.7/site-packages (from pandas) (2.8.1)\n",
            "Requirement already satisfied: six>=1.5 in /anaconda3/lib/python3.7/site-packages (from python-dateutil>=2.7.3->pandas) (1.15.0)\n",
            "\u001b[31mlazypredict 0.2.9 has requirement numpy==1.19.1, but you'll have numpy 1.21.2 which is incompatible.\u001b[0m\n",
            "\u001b[31mlazypredict 0.2.9 has requirement pandas==1.0.5, but you'll have pandas 1.3.2 which is incompatible.\u001b[0m\n",
            "\u001b[31mlazypredict 0.2.9 has requirement PyYAML==5.3.1, but you'll have pyyaml 3.13 which is incompatible.\u001b[0m\n",
            "\u001b[31mlazypredict 0.2.9 has requirement xgboost==1.1.1, but you'll have xgboost 0.80 which is incompatible.\u001b[0m\n",
            "Installing collected packages: numpy, pandas\n",
            "Successfully installed numpy-1.21.2 pandas-1.3.2\n",
            "Requirement already satisfied: numpy in /anaconda3/lib/python3.7/site-packages (1.21.2)\n"
          ]
        }
      ]
    },
    {
      "cell_type": "code",
      "metadata": {
        "id": "uYkkiii7tUUF"
      },
      "source": [
        "import numpy as np \n",
        "import pandas as pd"
      ],
      "execution_count": null,
      "outputs": []
    },
    {
      "cell_type": "code",
      "metadata": {
        "id": "esmJROctctx2"
      },
      "source": [
        "import matplotlib.pyplot as plt\n",
        "import seaborn as sns"
      ],
      "execution_count": null,
      "outputs": []
    },
    {
      "cell_type": "code",
      "metadata": {
        "id": "wNe9I21Q0Jy_"
      },
      "source": [
        "from sklearn import preprocessing\n",
        "from sklearn.model_selection import train_test_split, cross_validate, TimeSeriesSplit\n",
        "from sklearn.metrics import accuracy_score, precision_score, recall_score, f1_score\n",
        "from sklearn.decomposition import PCA\n",
        "from sklearn.impute import SimpleImputer\n",
        "from sklearn.metrics import confusion_matrix"
      ],
      "execution_count": null,
      "outputs": []
    },
    {
      "cell_type": "code",
      "metadata": {
        "id": "vf42gWaHqhTz"
      },
      "source": [
        "from sklearn.linear_model import LogisticRegression, RidgeClassifierCV, RidgeClassifier\n",
        "from sklearn.multioutput import MultiOutputClassifier\n",
        "from sklearn.ensemble import RandomForestClassifier, ExtraTreesClassifier\n",
        "from sklearn.neighbors import KNeighborsClassifier"
      ],
      "execution_count": null,
      "outputs": []
    },
    {
      "cell_type": "code",
      "metadata": {
        "id": "Hy4y-mo1tjrR"
      },
      "source": [
        "import tensorflow as tf\n",
        "from tensorflow import keras\n",
        "from tensorflow.keras import layers\n",
        "from tensorflow.keras import regularizers"
      ],
      "execution_count": null,
      "outputs": []
    },
    {
      "cell_type": "code",
      "metadata": {
        "id": "W3oS5PG1V0S4"
      },
      "source": [
        "from  IPython import display\n",
        "from matplotlib import pyplot as plt\n",
        "\n",
        "import numpy as np\n",
        "\n",
        "import pathlib\n",
        "import shutil\n",
        "import tempfile"
      ],
      "execution_count": null,
      "outputs": []
    },
    {
      "cell_type": "code",
      "metadata": {
        "id": "XW19uIaw4u__"
      },
      "source": [
        "#!pip install git+https://github.com/tensorflow/docs\n",
        "\n",
        "#import tensorflow_docs as tfdocs\n",
        "#import tensorflow_docs.modeling\n",
        "#import tensorflow_docs.plots"
      ],
      "execution_count": null,
      "outputs": []
    },
    {
      "cell_type": "markdown",
      "metadata": {
        "id": "IXTMm6ECtjK_"
      },
      "source": [
        "# DATA"
      ]
    },
    {
      "cell_type": "markdown",
      "metadata": {
        "id": "NjgvqbyV79mP"
      },
      "source": [
        "* habilitar acesso para salvar no resultados no drive e definir path da planilha resultados"
      ]
    },
    {
      "cell_type": "code",
      "metadata": {
        "id": "myZ6F0YB77yb"
      },
      "source": [
        "#from google.colab import drive\n",
        "#drive.mount('/content/drive')"
      ],
      "execution_count": null,
      "outputs": []
    },
    {
      "cell_type": "code",
      "metadata": {
        "id": "Cmg90ye28FrZ"
      },
      "source": [
        "path = '/Volumes/EXT/EXTDocumentos/UFPE/2021.1/Redes neurais/project/Projeto/Resultados.xlsx'\n"
      ],
      "execution_count": null,
      "outputs": []
    },
    {
      "cell_type": "markdown",
      "metadata": {
        "id": "iYSosjRiwz8g"
      },
      "source": [
        "* index_col para criar multindex com data e hora\n",
        "* header para criar multilevels com velocidade e equipamento"
      ]
    },
    {
      "cell_type": "code",
      "metadata": {
        "id": "qqOn5Qunthig"
      },
      "source": [
        "X = pd.read_csv('https://www.cin.ufpe.br/~amal/dados/transito/DATAMART/inputhgeralpivot.csv', index_col=[0,1], header=[0,1])\n",
        "#X = pd.read_csv('https://www.cin.ufpe.br/~amal/dados/transito/DATAMART/inputhfaixapivot.csv', index_col=[0,1], header=[0,1,2])"
      ],
      "execution_count": null,
      "outputs": []
    },
    {
      "cell_type": "code",
      "metadata": {
        "id": "mtFSfrQzD2M2"
      },
      "source": [
        "X.head()"
      ],
      "execution_count": null,
      "outputs": []
    },
    {
      "cell_type": "code",
      "metadata": {
        "id": "d6g8geWNP6eq"
      },
      "source": [
        "X.swaplevel(axis=1).sort_index(axis=1)"
      ],
      "execution_count": null,
      "outputs": []
    },
    {
      "cell_type": "code",
      "metadata": {
        "id": "pauPhtO-t5o2"
      },
      "source": [
        "X.shape"
      ],
      "execution_count": null,
      "outputs": []
    },
    {
      "cell_type": "markdown",
      "metadata": {
        "id": "Zen19VhHwjmG"
      },
      "source": [
        "* index_col para criar multindex com data e hora\n",
        "* header para criar multilevels com count e bairro\n",
        "* drop pra apagar essa coluna 0 q não serve pra nada\n",
        "* count pra ignorar os dados de qtd de vítimas, somente acidentes"
      ]
    },
    {
      "cell_type": "code",
      "metadata": {
        "id": "bZQL18CVqJFn"
      },
      "source": [
        "Xg = pd.read_csv('https://www.cin.ufpe.br/~amal/dados/transito/DATAMART/inputhgeralpivot.csv', index_col=[0,1], header=[0,1])\n",
        "Xg = Xg.drop('latitude',axis=1).drop('longitude',axis=1).drop('tipo_y',axis=1)\n",
        "Xg = Xg.swaplevel(axis=1).sort_index(axis=1)"
      ],
      "execution_count": null,
      "outputs": []
    },
    {
      "cell_type": "code",
      "metadata": {
        "id": "UfOUuivFqToc"
      },
      "source": [
        "Xg.sum(axis=0).sort_values()"
      ],
      "execution_count": null,
      "outputs": []
    },
    {
      "cell_type": "code",
      "metadata": {
        "id": "Ssgh1COHyJey"
      },
      "source": [
        "Xg.isna().sum().sum() / Xg.isna().count().sum()"
      ],
      "execution_count": null,
      "outputs": []
    },
    {
      "cell_type": "code",
      "metadata": {
        "id": "57sM9oPYsUai"
      },
      "source": [
        "#Xg[Xg.columns[0:11]]\n",
        "#Xg[Xg.columns[0:11]].sort_values(Xg.columns[5],ascending=False)\n",
        "#Xg[Xg.columns[0:11]].iloc[52*24+10].plot.bar()\n",
        "#Xg[Xg.columns[0:11]].iloc[348*24+4].plot.bar()"
      ],
      "execution_count": null,
      "outputs": []
    },
    {
      "cell_type": "code",
      "metadata": {
        "id": "RvFKb1x3mNKk"
      },
      "source": [
        "selecao_bairros = ['Areias', 'Beberibe' ,'Boa Viagem' ,'Boa Vista' ,'Cabanga', 'Casa Amarela' , 'Casa Forte' ,'Caçote' ,'Curado' ,'Derby' ,'Estância' ,'Graças' ,'Imbiribeira' ,'Iputinga' ,'Jiquiá' ,'Macaxeira' ,'Madalena' ,'Paissandu' ,'Pina' , 'Prado' ,'Bairro do Recife' ,'Santo Amaro' ,'São José' ,'Tamarineira' ,'Tejipió' ,'Torrões' ,'Várzea', 'Vasco da Gama' ]\n",
        "bairros = [ b.upper() for b in selecao_bairros ]"
      ],
      "execution_count": null,
      "outputs": []
    },
    {
      "cell_type": "code",
      "metadata": {
        "id": "HbJChTdAtr2x"
      },
      "source": [
        "Y = pd.read_csv('https://www.cin.ufpe.br/~amal/dados/transito/DATAMART/outputhgeralpivotbin.csv', index_col=[0,1], header=[0,1]).drop('0', level=1, axis=1)['count']"
      ],
      "execution_count": null,
      "outputs": []
    },
    {
      "cell_type": "code",
      "metadata": {
        "id": "JxnVEiaJvGU6"
      },
      "source": [
        "Y.shape"
      ],
      "execution_count": null,
      "outputs": []
    },
    {
      "cell_type": "code",
      "metadata": {
        "id": "d0HkJIiHqIPp"
      },
      "source": [
        "Yg = pd.read_csv('https://www.cin.ufpe.br/~amal/dados/transito/DATAMART/outputhgeralpivotbin.csv', index_col=[0,1], header=[0,1]).drop('0', level=1, axis=1)['count']\n",
        "Yg = Yg[bairros[0:]]\n",
        "Yg.sum(axis=0).plot.bar(figsize=(10,5))"
      ],
      "execution_count": null,
      "outputs": []
    },
    {
      "cell_type": "markdown",
      "metadata": {
        "id": "vBWFjx3WyWso"
      },
      "source": [
        "# PRE PROCESSING"
      ]
    },
    {
      "cell_type": "code",
      "metadata": {
        "id": "uGsjdHuD0lQO"
      },
      "source": [
        "#list(enumerate(X.columns.tolist()))"
      ],
      "execution_count": null,
      "outputs": []
    },
    {
      "cell_type": "markdown",
      "metadata": {
        "id": "cMBlr_surfB1"
      },
      "source": [
        "## Filtro por bairro"
      ]
    },
    {
      "cell_type": "code",
      "metadata": {
        "id": "wyxEUWAQrhY9"
      },
      "source": [
        "Y = Y[bairros[0:]]"
      ],
      "execution_count": null,
      "outputs": []
    },
    {
      "cell_type": "markdown",
      "metadata": {
        "id": "fPxfkNuvy34L"
      },
      "source": [
        "## Features"
      ]
    },
    {
      "cell_type": "markdown",
      "metadata": {
        "id": "u_TnBNzspeLg"
      },
      "source": [
        "### Limpeza de dados constantes"
      ]
    },
    {
      "cell_type": "code",
      "metadata": {
        "id": "Xcq-pHr3nBd-"
      },
      "source": [
        "X = X.drop('latitude',axis=1).drop('longitude',axis=1).drop('tipo_y',axis=1)\n",
        "#X.swaplevel(axis=1).sort_index(axis=1)"
      ],
      "execution_count": null,
      "outputs": []
    },
    {
      "cell_type": "markdown",
      "metadata": {
        "id": "wLaXSlcFQYuV"
      },
      "source": [
        "### Ordenar dados por equipamento"
      ]
    },
    {
      "cell_type": "code",
      "metadata": {
        "id": "dJcRicftQTnh"
      },
      "source": [
        "X = X.swaplevel(axis=1).sort_index(axis=1)"
      ],
      "execution_count": null,
      "outputs": []
    },
    {
      "cell_type": "markdown",
      "metadata": {
        "id": "8WwgpfWr1x3j"
      },
      "source": [
        "### Dia da semana e Mês"
      ]
    },
    {
      "cell_type": "code",
      "metadata": {
        "id": "UaM04zT3yYkw"
      },
      "source": [
        "#pd.to_datetime(X.index.get_level_values(0))\n",
        "#X['dia_semana'] = pd.to_datetime(X.index.get_level_values(0)).weekday\n",
        "#X['mes'] = pd.to_datetime(X.index.get_level_values(0)).month"
      ],
      "execution_count": null,
      "outputs": []
    },
    {
      "cell_type": "markdown",
      "metadata": {
        "id": "IvU1Cuzb0HaZ"
      },
      "source": [
        "## Normalizar dados de qtd de veículos"
      ]
    },
    {
      "cell_type": "code",
      "metadata": {
        "id": "GHFN-BKIRTFx"
      },
      "source": [
        "X.columns[0:682]"
      ],
      "execution_count": null,
      "outputs": []
    },
    {
      "cell_type": "code",
      "metadata": {
        "id": "o1mZ43pi0F7D"
      },
      "source": [
        "scaler = preprocessing.StandardScaler()\n",
        "min_max_scaler = preprocessing.MinMaxScaler()"
      ],
      "execution_count": null,
      "outputs": []
    },
    {
      "cell_type": "markdown",
      "metadata": {
        "id": "oAdZxHBq1eQl"
      },
      "source": [
        "### Padronização"
      ]
    },
    {
      "cell_type": "code",
      "metadata": {
        "id": "8E2dxmvh1bXt"
      },
      "source": [
        "X[X.columns[0:682]] = scaler.fit_transform(X[X.columns[0:682]])"
      ],
      "execution_count": null,
      "outputs": []
    },
    {
      "cell_type": "markdown",
      "metadata": {
        "id": "9sQ87hx11hX1"
      },
      "source": [
        "### Min-Max"
      ]
    },
    {
      "cell_type": "code",
      "metadata": {
        "id": "-5ZEEbJZ0clH"
      },
      "source": [
        "#X[X.columns[0:682]] = min_max_scaler.fit_transform(X[X.columns[0:682]])"
      ],
      "execution_count": null,
      "outputs": []
    },
    {
      "cell_type": "markdown",
      "metadata": {
        "id": "yEVonT071Mi1"
      },
      "source": [
        "## Imputar dados ausentes"
      ]
    },
    {
      "cell_type": "markdown",
      "metadata": {
        "id": "lScadUhlRDv_"
      },
      "source": [
        "### Moda"
      ]
    },
    {
      "cell_type": "code",
      "metadata": {
        "id": "E_qFFqcqRCSA"
      },
      "source": [
        " imp = SimpleImputer(missing_values=np.nan, strategy='most_frequent')"
      ],
      "execution_count": null,
      "outputs": []
    },
    {
      "cell_type": "markdown",
      "metadata": {
        "id": "o5bIIg22IMfE"
      },
      "source": [
        "### Média a partir da padronização"
      ]
    },
    {
      "cell_type": "code",
      "metadata": {
        "id": "12-dd3l9IXVj"
      },
      "source": [
        "X.fillna(0, inplace=True)"
      ],
      "execution_count": null,
      "outputs": []
    },
    {
      "cell_type": "markdown",
      "metadata": {
        "id": "qLoGW2oH1a1b"
      },
      "source": [
        "### Forward Fill + Backward Fill"
      ]
    },
    {
      "cell_type": "code",
      "metadata": {
        "id": "4wVkYtay1Jwk"
      },
      "source": [
        "#X = X.fillna(method='ffill', axis=0)"
      ],
      "execution_count": null,
      "outputs": []
    },
    {
      "cell_type": "code",
      "metadata": {
        "id": "ZPDuGOs82Z2g"
      },
      "source": [
        "#X = X.fillna(method='bfill', axis=0)"
      ],
      "execution_count": null,
      "outputs": []
    },
    {
      "cell_type": "markdown",
      "metadata": {
        "id": "9aA50qwvLjoE"
      },
      "source": [
        "## Ajuste temporal"
      ]
    },
    {
      "cell_type": "markdown",
      "metadata": {
        "id": "1nUR4l9ONNrT"
      },
      "source": [
        "* Excluir fevereiro, que fica isolado pela quebra na série temporal dos dados"
      ]
    },
    {
      "cell_type": "code",
      "metadata": {
        "id": "DI_MKTCsLim7"
      },
      "source": [
        "Xt = {}\n",
        "Xt[2020] = X[:366*24]\n",
        "Xt[2021] = X[-91*24:]\n",
        "Yt = {}\n",
        "Yt[2020] = Y[:366*24]\n",
        "Yt[2021] = Y[-91*24:]"
      ],
      "execution_count": null,
      "outputs": []
    },
    {
      "cell_type": "code",
      "metadata": {
        "id": "qJivM32KMvn-"
      },
      "source": [
        "print('input 2020:',Xt[2020].shape)\n",
        "print('output 2020:',Yt[2020].shape)\n",
        "print('input 2021:',Xt[2021].shape)\n",
        "print('output 2021:',Yt[2021].shape)"
      ],
      "execution_count": null,
      "outputs": []
    },
    {
      "cell_type": "code",
      "metadata": {
        "id": "bw-WmDqxZXQw"
      },
      "source": [
        "pca = PCA(n_components=2)\n",
        "pca.fit(X)"
      ],
      "execution_count": null,
      "outputs": []
    },
    {
      "cell_type": "code",
      "metadata": {
        "id": "7P8ZqO3Fhbmy"
      },
      "source": [
        "Yt[2020].sum(axis=0).sort_values()"
      ],
      "execution_count": null,
      "outputs": []
    },
    {
      "cell_type": "code",
      "metadata": {
        "id": "qfaa5FiBYgX_"
      },
      "source": [
        "acidentes_bv = Yt[2020].iloc[60*24:].loc[Yt[2020].iloc[60*24:]['BOA VIAGEM'] == 1]['BOA VIAGEM']\n",
        "transito_bv = Xt[2020].iloc[60*24:].loc[Yt[2020].iloc[60*24:]['BOA VIAGEM'] == 1]"
      ],
      "execution_count": null,
      "outputs": []
    },
    {
      "cell_type": "code",
      "metadata": {
        "id": "Ogogc8McZS3M"
      },
      "source": [
        "acd_bv = pd.DataFrame(pca.transform(Xt[2020].iloc[60*24:].loc[Yt[2020].iloc[60*24:]['BOA VIAGEM'] == 1])).join(pd.Series(np.array(Yt[2020].iloc[60*24:].loc[Yt[2020].iloc[60*24:]['BOA VIAGEM'] == 1]['BOA VIAGEM']),name='acidentes'))\n",
        "nacd_bv = pd.DataFrame(pca.transform(Xt[2020].iloc[60*24:].loc[Yt[2020].iloc[60*24:]['BOA VIAGEM'] == 0])).join(pd.Series(np.array(Yt[2020].iloc[60*24:].loc[Yt[2020].iloc[60*24:]['BOA VIAGEM'] == 0]['BOA VIAGEM']),name='acidentes'))\n",
        "#acd_bv = pd.DataFrame(pca.transform(Xt[2020].loc[Yt[2020]['BOA VIAGEM'] == 1])).join(pd.Series(np.array(Yt[2020].loc[Yt[2020]['BOA VIAGEM'] == 1]['BOA VIAGEM']),name='acidentes'))\n",
        "#nacd_bv = pd.DataFrame(pca.transform(Xt[2020].loc[Yt[2020]['BOA VIAGEM'] == 0])).join(pd.Series(np.array(Yt[2020].loc[Yt[2020]['BOA VIAGEM'] == 0]['BOA VIAGEM']),name='acidentes'))\n",
        "jacd_bv = acd_bv.append(nacd_bv)"
      ],
      "execution_count": null,
      "outputs": []
    },
    {
      "cell_type": "code",
      "metadata": {
        "id": "lz1FyI5SiDHK"
      },
      "source": [
        "#acd_bv = pd.DataFrame(pca.transform(Xt[2020].loc[Yt[2020]['IMBIRIBEIRA'] == 1])).join(pd.Series(np.array(Yt[2020].loc[Yt[2020]['IMBIRIBEIRA'] == 1]['IMBIRIBEIRA']),name='acidentes'))\n",
        "#nacd_bv = pd.DataFrame(pca.transform(Xt[2020].loc[Yt[2020]['IMBIRIBEIRA'] == 0])).join(pd.Series(np.array(Yt[2020].loc[Yt[2020]['IMBIRIBEIRA'] == 0]['IMBIRIBEIRA']),name='acidentes'))\n",
        "#jacd_bv = acd_bv.append(nacd_bv)"
      ],
      "execution_count": null,
      "outputs": []
    },
    {
      "cell_type": "code",
      "metadata": {
        "id": "L35APzqScpDL"
      },
      "source": [
        "fig, ax = plt.subplots(figsize=(10,10))\n",
        "sns.scatterplot(data=jacd_bv.sort_values('acidentes'), x=0, y=1, hue='acidentes', size='acidentes')"
      ],
      "execution_count": null,
      "outputs": []
    },
    {
      "cell_type": "code",
      "metadata": {
        "id": "E2bGyMETT8Vm"
      },
      "source": [
        "acd_bv = pd.DataFrame(pca.transform(Xt[2021].loc[Yt[2021]['IMBIRIBEIRA'] == 1])).join(pd.Series(np.array(Yt[2021].loc[Yt[2021]['IMBIRIBEIRA'] == 1]['IMBIRIBEIRA']),name='acidentes'))\n",
        "nacd_bv = pd.DataFrame(pca.transform(Xt[2021].loc[Yt[2021]['IMBIRIBEIRA'] == 0])).join(pd.Series(np.array(Yt[2021].loc[Yt[2021]['IMBIRIBEIRA'] == 0]['IMBIRIBEIRA']),name='acidentes'))\n",
        "jacd_bv = acd_bv.append(nacd_bv)"
      ],
      "execution_count": null,
      "outputs": []
    },
    {
      "cell_type": "code",
      "metadata": {
        "id": "SMtzDlM8im00"
      },
      "source": [
        "fig, ax = plt.subplots(figsize=(10,10))\n",
        "sns.scatterplot(data=jacd_bv.sort_values('acidentes'), x=0, y=1, hue='acidentes', size='acidentes')"
      ],
      "execution_count": null,
      "outputs": []
    },
    {
      "cell_type": "code",
      "metadata": {
        "id": "IC9HVO1PlCrV"
      },
      "source": [
        "sns.jointplot(data=acd_bv.sort_values('acidentes'), x=0, y=1, kind='hex')"
      ],
      "execution_count": null,
      "outputs": []
    },
    {
      "cell_type": "code",
      "metadata": {
        "id": "n690WOjPUON0"
      },
      "source": [
        "sns.jointplot(data=acd_bv.sort_values('acidentes'), x=0, y=1, kind='hex')"
      ],
      "execution_count": null,
      "outputs": []
    },
    {
      "cell_type": "code",
      "metadata": {
        "id": "IkWsiqdHlVO_"
      },
      "source": [
        "sns.jointplot(data=nacd_bv.sort_values('acidentes'), x=0, y=1, kind='hex')"
      ],
      "execution_count": null,
      "outputs": []
    },
    {
      "cell_type": "code",
      "metadata": {
        "id": "fPqFzrHVUZ6C"
      },
      "source": [
        "sns.jointplot(data=nacd_bv.sort_values('acidentes'), x=0, y=1, kind='hex')"
      ],
      "execution_count": null,
      "outputs": []
    },
    {
      "cell_type": "markdown",
      "metadata": {
        "id": "Xoa4cmVlP39P"
      },
      "source": [
        "# Janelas de tempo (tutorial)"
      ]
    },
    {
      "cell_type": "code",
      "metadata": {
        "id": "NLLyBlNGRNQz"
      },
      "source": [
        "train_df = Xt[2020]\n",
        "val_df = Xt[2021][0:60]\n",
        "test_df = Xt[2021][60:]"
      ],
      "execution_count": null,
      "outputs": []
    },
    {
      "cell_type": "code",
      "metadata": {
        "id": "IBLqZpQRP6SO"
      },
      "source": [
        "class WindowGenerator():\n",
        "  def __init__(self, input_width, label_width, shift,\n",
        "               train_df=train_df, val_df=val_df, test_df=test_df,\n",
        "               label_columns=None):\n",
        "    # Store the raw data.\n",
        "    self.train_df = train_df\n",
        "    self.val_df = val_df\n",
        "    self.test_df = test_df\n",
        "\n",
        "    # Work out the label column indices.\n",
        "    self.label_columns = label_columns\n",
        "    if label_columns is not None:\n",
        "      self.label_columns_indices = {name: i for i, name in\n",
        "                                    enumerate(label_columns)}\n",
        "    self.column_indices = {name: i for i, name in\n",
        "                           enumerate(train_df.columns)}\n",
        "\n",
        "    # Work out the window parameters.\n",
        "    self.input_width = input_width\n",
        "    self.label_width = label_width\n",
        "    self.shift = shift\n",
        "\n",
        "    self.total_window_size = input_width + shift\n",
        "\n",
        "    self.input_slice = slice(0, input_width)\n",
        "    self.input_indices = np.arange(self.total_window_size)[self.input_slice]\n",
        "\n",
        "    self.label_start = self.total_window_size - self.label_width\n",
        "    self.labels_slice = slice(self.label_start, None)\n",
        "    self.label_indices = np.arange(self.total_window_size)[self.labels_slice]\n",
        "\n",
        "  def __repr__(self):\n",
        "    return '\\n'.join([\n",
        "        f'Total window size: {self.total_window_size}',\n",
        "        f'Input indices: {self.input_indices}',\n",
        "        f'Label indices: {self.label_indices}',\n",
        "        f'Label column name(s): {self.label_columns}'])"
      ],
      "execution_count": null,
      "outputs": []
    },
    {
      "cell_type": "code",
      "metadata": {
        "id": "fnUCkC2-QILa"
      },
      "source": [
        "def split_window(self, features):\n",
        "  inputs = features[:, self.input_slice, :]\n",
        "  labels = features[:, self.labels_slice, :]\n",
        "  if self.label_columns is not None:\n",
        "    labels = tf.stack(\n",
        "        [labels[:, :, self.column_indices[name]] for name in self.label_columns],\n",
        "        axis=-1)\n",
        "\n",
        "  # Slicing doesn't preserve static shape information, so set the shapes\n",
        "  # manually. This way the `tf.data.Datasets` are easier to inspect.\n",
        "  inputs.set_shape([None, self.input_width, None])\n",
        "  labels.set_shape([None, self.label_width, None])\n",
        "\n",
        "  return inputs, labels\n",
        "\n",
        "WindowGenerator.split_window = split_window"
      ],
      "execution_count": null,
      "outputs": []
    },
    {
      "cell_type": "code",
      "metadata": {
        "id": "eZsohOuQQjsC"
      },
      "source": [
        "def plot(self, model=None, plot_col='acidentes', max_subplots=3):\n",
        "  inputs, labels = self.example\n",
        "  plt.figure(figsize=(12, 8))\n",
        "  plot_col_index = self.column_indices[plot_col]\n",
        "  max_n = min(max_subplots, len(inputs))\n",
        "  for n in range(max_n):\n",
        "    plt.subplot(max_n, 1, n+1)\n",
        "    plt.ylabel(f'{plot_col} [normed]')\n",
        "    plt.plot(self.input_indices, inputs[n, :, plot_col_index],\n",
        "             label='Inputs', marker='.', zorder=-10)\n",
        "\n",
        "    if self.label_columns:\n",
        "      label_col_index = self.label_columns_indices.get(plot_col, None)\n",
        "    else:\n",
        "      label_col_index = plot_col_index\n",
        "\n",
        "    if label_col_index is None:\n",
        "      continue\n",
        "\n",
        "    plt.scatter(self.label_indices, labels[n, :, label_col_index],\n",
        "                edgecolors='k', label='Labels', c='#2ca02c', s=64)\n",
        "    if model is not None:\n",
        "      predictions = model(inputs)\n",
        "      plt.scatter(self.label_indices, predictions[n, :, label_col_index],\n",
        "                  marker='X', edgecolors='k', label='Predictions',\n",
        "                  c='#ff7f0e', s=64)\n",
        "\n",
        "    if n == 0:\n",
        "      plt.legend()\n",
        "\n",
        "  plt.xlabel('Time [h]')\n",
        "\n",
        "WindowGenerator.plot = plot"
      ],
      "execution_count": null,
      "outputs": []
    },
    {
      "cell_type": "markdown",
      "metadata": {
        "id": "Vne9NnwnvAeF"
      },
      "source": [
        "# PCA e correlações"
      ]
    },
    {
      "cell_type": "code",
      "metadata": {
        "id": "jtZyLgk-u-0f"
      },
      "source": [
        "pca = PCA(n_components=2)"
      ],
      "execution_count": null,
      "outputs": []
    },
    {
      "cell_type": "code",
      "metadata": {
        "id": "Oby3C3cdvGzC"
      },
      "source": [
        "pca.fit(Xt[2020])"
      ],
      "execution_count": null,
      "outputs": []
    },
    {
      "cell_type": "code",
      "metadata": {
        "id": "tJjIA5FSvI5K"
      },
      "source": [
        "print(pca.explained_variance_ratio_)"
      ],
      "execution_count": null,
      "outputs": []
    },
    {
      "cell_type": "code",
      "metadata": {
        "id": "cclY4vZrvMqs"
      },
      "source": [
        "pd.DataFrame(pca.fit_transform(Xt[2020])).plot.scatter(x=0,y=1)"
      ],
      "execution_count": null,
      "outputs": []
    },
    {
      "cell_type": "code",
      "metadata": {
        "id": "tlP-7v4EoL8Q"
      },
      "source": [
        "Yt[2020].max(axis=1)"
      ],
      "execution_count": null,
      "outputs": []
    },
    {
      "cell_type": "code",
      "metadata": {
        "id": "1oQNZAKbvrED"
      },
      "source": [
        "fig, ax = plt.subplots(figsize=(10,10))\n",
        "df = pd.DataFrame(pca.fit_transform(Xt[2020])).join(pd.Series(np.array(Yt[2020].max(axis=1)), name='acidentes'))\n",
        "sns.scatterplot(data=df.sort_values('acidentes'), x=0, y=1, hue='acidentes', size='acidentes')"
      ],
      "execution_count": null,
      "outputs": []
    },
    {
      "cell_type": "code",
      "metadata": {
        "id": "A2tN0oJWvwVg"
      },
      "source": [
        "pca.fit(Xt[2020])"
      ],
      "execution_count": null,
      "outputs": []
    },
    {
      "cell_type": "code",
      "metadata": {
        "id": "97FD05yJx-L3"
      },
      "source": [
        "Xorg = pd.read_csv('https://www.cin.ufpe.br/~amal/dados/transito/DATAMART/inputhgeralpivot.csv', index_col=[0,1], header=[0,1])\n",
        "Xorg = Xorg[Xorg.columns[0:682]]"
      ],
      "execution_count": null,
      "outputs": []
    },
    {
      "cell_type": "code",
      "metadata": {
        "id": "-m7TFAxKw9QC"
      },
      "source": [
        "Xorg.groupby('equipamento', level=1, axis=1).sum().corrwith(Y.sum(axis=1)).plot(figsize=(10,5))"
      ],
      "execution_count": null,
      "outputs": []
    },
    {
      "cell_type": "code",
      "metadata": {
        "id": "UKo83EcOwQ0O"
      },
      "source": [
        "pd.DataFrame(X[X.columns[0:682]].groupby('equipamento',level=1,axis=1).sum()).corrwith(Y.sum(axis=1)).plot(figsize=(10,5))"
      ],
      "execution_count": null,
      "outputs": []
    },
    {
      "cell_type": "code",
      "metadata": {
        "id": "FVEVuRW1zT5D"
      },
      "source": [
        "Xorg2020 = Xorg[:366*24]"
      ],
      "execution_count": null,
      "outputs": []
    },
    {
      "cell_type": "code",
      "metadata": {
        "id": "YBYMbLPEzzL1"
      },
      "source": [
        " imp = SimpleImputer(missing_values=np.nan, strategy='most_frequent')\n",
        " Xorg2020 = imp.fit_transform(Xorg2020)"
      ],
      "execution_count": null,
      "outputs": []
    },
    {
      "cell_type": "code",
      "metadata": {
        "id": "W2un6NWDy8yd"
      },
      "source": [
        "print('lag 0: ', pd.DataFrame(np.roll(np.array(Xorg2020),0, axis=0).sum(axis=1)).corrwith(Yt[2020].sum(axis=1).reset_index()[0]))\n",
        "print('lag 1: ', pd.DataFrame(np.roll(np.array(Xorg2020),-1, axis=0).sum(axis=1)).corrwith(Yt[2020].sum(axis=1).reset_index()[0]))\n",
        "print('lag 2: ', pd.DataFrame(np.roll(np.array(Xorg2020),-2, axis=0).sum(axis=1)).corrwith(Yt[2020].sum(axis=1).reset_index()[0]))\n",
        "print('lag 3: ', pd.DataFrame(np.roll(np.array(Xorg2020),-3, axis=0).sum(axis=1)).corrwith(Yt[2020].sum(axis=1).reset_index()[0]))\n",
        "print('lag 4: ', pd.DataFrame(np.roll(np.array(Xorg2020),-5, axis=0).sum(axis=1)).corrwith(Yt[2020].sum(axis=1).reset_index()[0]))\n",
        "print('lag 5: ', pd.DataFrame(np.roll(np.array(Xorg2020),-5, axis=0).sum(axis=1)).corrwith(Yt[2020].sum(axis=1).reset_index()[0]))\n",
        "print('lag 6: ', pd.DataFrame(np.roll(np.array(Xorg2020),-6, axis=0).sum(axis=1)).corrwith(Yt[2020].sum(axis=1).reset_index()[0]))\n"
      ],
      "execution_count": null,
      "outputs": []
    },
    {
      "cell_type": "code",
      "metadata": {
        "id": "NNMxC1rXWrMu"
      },
      "source": [
        "Y"
      ],
      "execution_count": null,
      "outputs": []
    },
    {
      "cell_type": "markdown",
      "metadata": {
        "id": "sOArj6-K44kD"
      },
      "source": [
        "# Train/Test Split"
      ]
    },
    {
      "cell_type": "markdown",
      "metadata": {
        "id": "3M1BJpxwRx2U"
      },
      "source": [
        "* Criação do tensor de entrada com 6 lags/timesteps\n",
        "  - Treino/validação\n",
        "  - Teste"
      ]
    },
    {
      "cell_type": "code",
      "metadata": {
        "id": "Vhnj4chHyiXn"
      },
      "source": [
        "len(Xt[2020]) + len(Xt[2021])"
      ],
      "execution_count": null,
      "outputs": []
    },
    {
      "cell_type": "code",
      "metadata": {
        "id": "7vXPk64FOjrE"
      },
      "source": [
        "lags = 12\n",
        "npX = []\n",
        "for lag in range(lags):\n",
        "  npX.insert(0, np.roll(np.array(Xt[2020]), lag * -1, axis=0))\n",
        "npX = np.array(npX)\n",
        "npX = npX.reshape(npX.shape[1],npX.shape[2],npX.shape[0])[0:-lags]"
      ],
      "execution_count": null,
      "outputs": []
    },
    {
      "cell_type": "code",
      "metadata": {
        "id": "WRCrbO1I4Ft8"
      },
      "source": [
        "Xt[2020].shape"
      ],
      "execution_count": null,
      "outputs": []
    },
    {
      "cell_type": "code",
      "metadata": {
        "id": "p0SN4VA5XY0j"
      },
      "source": [
        "npX.shape"
      ],
      "execution_count": null,
      "outputs": []
    },
    {
      "cell_type": "code",
      "metadata": {
        "id": "qL8RMlr8XDSC"
      },
      "source": [
        "npXtest = []\n",
        "for lag in range(lags):\n",
        "  npXtest.insert(0, np.roll(np.array(Xt[2021]), lag * -1, axis=0))\n",
        "npXtest = np.array(npXtest)\n",
        "npXtest = npXtest.reshape(npXtest.shape[1],npXtest.shape[2],npXtest.shape[0])[0:-lags]"
      ],
      "execution_count": null,
      "outputs": []
    },
    {
      "cell_type": "code",
      "metadata": {
        "id": "C-j5u7TjVsbe"
      },
      "source": [
        "npXtest.shape"
      ],
      "execution_count": null,
      "outputs": []
    },
    {
      "cell_type": "markdown",
      "metadata": {
        "id": "gyXE9N-xXhVJ"
      },
      "source": [
        "* Criação da matriz de saída descontando os lags iniciais\n",
        "  - Treino/validação\n",
        "  - Teste"
      ]
    },
    {
      "cell_type": "code",
      "metadata": {
        "id": "Bg-riWdlRxvi"
      },
      "source": [
        "Xt[2020]"
      ],
      "execution_count": null,
      "outputs": []
    },
    {
      "cell_type": "markdown",
      "metadata": {
        "id": "CwRMUDmX8W1f"
      },
      "source": [
        "### Saída com janela deslizante"
      ]
    },
    {
      "cell_type": "code",
      "metadata": {
        "id": "m48Uhyw2pJ9_"
      },
      "source": [
        "Yt[2020].head(10)"
      ],
      "execution_count": null,
      "outputs": []
    },
    {
      "cell_type": "code",
      "metadata": {
        "id": "T7AR3tdAXguh"
      },
      "source": [
        "lags = lags\n",
        "indexer = pd.api.indexers.FixedForwardWindowIndexer(window_size=lags)\n",
        "npY = np.array(Yt[2020].rolling(window=indexer).max())[:-lags]\n",
        "npYtest = np.array(Yt[2021].rolling(window=indexer).max())[:-lags:]"
      ],
      "execution_count": null,
      "outputs": []
    },
    {
      "cell_type": "code",
      "metadata": {
        "id": "0aC_GMJpl9w4"
      },
      "source": [
        "dir(pd.api.indexers)"
      ],
      "execution_count": null,
      "outputs": []
    },
    {
      "cell_type": "code",
      "metadata": {
        "id": "hSkCKIYnpZ-m"
      },
      "source": [
        "npY[:, 0][lags:][:20]"
      ],
      "execution_count": null,
      "outputs": []
    },
    {
      "cell_type": "code",
      "metadata": {
        "id": "eI03ebfOuAZU"
      },
      "source": [
        "npY[:, 18][lags:][:20]"
      ],
      "execution_count": null,
      "outputs": []
    },
    {
      "cell_type": "code",
      "metadata": {
        "id": "QZ190qvZ5tog"
      },
      "source": [
        "print('acidentes por hora treino\\n', pd.Series(npY.flatten()).value_counts(), '\\n percentuais \\n', pd.Series(npY.flatten()).value_counts()*100/pd.Series(npY.flatten()).value_counts().sum())\n",
        "print('acidentes por hora teste\\n', pd.Series(npYtest.flatten()).value_counts(), '\\n percentuais \\n', pd.Series(npYtest.flatten()).value_counts()*100/pd.Series(npYtest.flatten()).value_counts().sum())"
      ],
      "execution_count": null,
      "outputs": []
    },
    {
      "cell_type": "code",
      "metadata": {
        "id": "SKlKYwYX7ohX"
      },
      "source": [
        "Yt[2020].rolling(window=lag).max().melt()['value'].value_counts()"
      ],
      "execution_count": null,
      "outputs": []
    },
    {
      "cell_type": "code",
      "metadata": {
        "id": "FxXnsJPF6Y6r"
      },
      "source": [
        "Yt[2020].rolling(window=lag).max().melt()['value'].value_counts()*100/Yt[2020].rolling(window=3).max().melt()['value'].value_counts().sum()"
      ],
      "execution_count": null,
      "outputs": []
    },
    {
      "cell_type": "code",
      "metadata": {
        "id": "UNginBQmIs7I"
      },
      "source": [
        "#npX = np.concatenate((npX,npXtest[:60*24]),axis=0)\n",
        "#npXtest = npXtest[60*24:]"
      ],
      "execution_count": null,
      "outputs": []
    },
    {
      "cell_type": "code",
      "metadata": {
        "id": "UG-TQ8cfKX8x"
      },
      "source": [
        "#npY = np.concatenate((npY,npYtest[:60*24]),axis=0)\n",
        "#npYtest = npYtest[60*24:]"
      ],
      "execution_count": null,
      "outputs": []
    },
    {
      "cell_type": "code",
      "metadata": {
        "id": "jhae9to3TLhQ"
      },
      "source": [
        "print(npX.shape)\n",
        "print(npXtest.shape)\n",
        "print(npY.shape)\n",
        "print(npYtest.shape)"
      ],
      "execution_count": null,
      "outputs": []
    },
    {
      "cell_type": "markdown",
      "metadata": {
        "id": "DL-85qcnZjY8"
      },
      "source": [
        "* Criação dos folds da validação cruzada: treinamento/validação"
      ]
    },
    {
      "cell_type": "code",
      "metadata": {
        "id": "U1udTKkL87Ye"
      },
      "source": [
        "tscv = TimeSeriesSplit()\n",
        "print(tscv)\n",
        "k = 0\n",
        "folds = list(range(5))\n",
        "\n",
        "for train_index, test_index in tscv.split(npX):\n",
        "    folds[k] = [train_index, test_index]\n",
        "    k = k + 1\n",
        "    #print(\"TRAIN:\", train_index, \"TEST:\", test_index)\n",
        "    #X_train, X_test = Xt[2020].reset_index().loc[train_index], Xt[2020].reset_index().loc[test_index]\n",
        "    #y_train, y_test = Yt[2020].reset_index().loc[train_index], Yt[2020].reset_index().loc[test_index]"
      ],
      "execution_count": null,
      "outputs": []
    },
    {
      "cell_type": "markdown",
      "metadata": {
        "id": "IUHylIQ4yUJO"
      },
      "source": [
        "# MODELS"
      ]
    },
    {
      "cell_type": "markdown",
      "metadata": {
        "id": "nbDLwxJQPTLW"
      },
      "source": [
        "## Baseline"
      ]
    },
    {
      "cell_type": "code",
      "metadata": {
        "id": "STPNXvoPathk"
      },
      "source": [
        "pred_base = np.zeros(npYtest.shape)"
      ],
      "execution_count": null,
      "outputs": []
    },
    {
      "cell_type": "code",
      "metadata": {
        "id": "X0AXa2je2U5b"
      },
      "source": [
        "accuracy_score(pd.Series(pred_base.flatten()), pd.Series(npYtest[:,:].flatten()))"
      ],
      "execution_count": null,
      "outputs": []
    },
    {
      "cell_type": "code",
      "metadata": {
        "id": "QAzneHUT2Vxp"
      },
      "source": [
        "precision_score(pd.Series(pred_base.flatten()), pd.Series(npYtest[:,:].flatten()))"
      ],
      "execution_count": null,
      "outputs": []
    },
    {
      "cell_type": "code",
      "metadata": {
        "id": "Is9ou9Bl2WIw"
      },
      "source": [
        "recall_score(pd.Series(pred_base.flatten()), pd.Series(npYtest[:,:].flatten()))"
      ],
      "execution_count": null,
      "outputs": []
    },
    {
      "cell_type": "code",
      "metadata": {
        "id": "lp1rRrzD2WeL"
      },
      "source": [
        "f1_score(pd.Series(pred_base.flatten()), pd.Series(npYtest[:,:].flatten()))"
      ],
      "execution_count": null,
      "outputs": []
    },
    {
      "cell_type": "markdown",
      "metadata": {
        "id": "xPmGVjH6-Xx3"
      },
      "source": [
        "## Setup"
      ]
    },
    {
      "cell_type": "code",
      "metadata": {
        "id": "cPxoirjnVv-h"
      },
      "source": [
        "logdir = pathlib.Path(tempfile.mkdtemp())/\"tensorboard_logs\"\n",
        "shutil.rmtree(logdir, ignore_errors=True)"
      ],
      "execution_count": null,
      "outputs": []
    },
    {
      "cell_type": "code",
      "metadata": {
        "id": "T_SgpVobG6lX"
      },
      "source": [
        "def plot_cm(labels, predictions, p=0.5):\n",
        "  cm = confusion_matrix(labels, predictions > p)\n",
        "  plt.figure(figsize=(5,5))\n",
        "  sns.heatmap(cm, annot=True, fmt=\"d\")\n",
        "  plt.title('Confusion matrix @{:.2f}'.format(p))\n",
        "  plt.ylabel('Actual label')\n",
        "  plt.xlabel('Predicted label')\n",
        "\n",
        "  print('Sem acidente previsto e ocorrido (True Negatives): ', cm[0][0])\n",
        "  print('Com acidente previsto, mas não ocorrido (False Positives): ', cm[0][1])\n",
        "  print('Sem acidente previsto, mas ocorrido (False Negatives): ', cm[1][0])\n",
        "  print('Com acidente previsto e ocorrido (True Positives): ', cm[1][1])\n",
        "  print('Total de acidentes: ', np.sum(cm[1]))"
      ],
      "execution_count": null,
      "outputs": []
    },
    {
      "cell_type": "code",
      "metadata": {
        "id": "SuUbwOPd9Mpz"
      },
      "source": [
        "colors = plt.rcParams['axes.prop_cycle'].by_key()['color']\n",
        "def plot_metrics(history):\n",
        "  metrics = ['loss', 'prc', 'precision', 'recall']\n",
        "  plt.subplots(figsize=(8,8))\n",
        "  for n, metric in enumerate(metrics):\n",
        "    name = metric.replace(\"_\",\" \").capitalize()\n",
        "    plt.subplot(2,2,n+1)\n",
        "    plt.plot(history.epoch, history.history[metric], color=colors[0], label='Train')\n",
        "    plt.plot(history.epoch, history.history['val_'+metric],\n",
        "             color=colors[0], linestyle=\"--\", label='Val')\n",
        "    plt.xlabel('Epoch')\n",
        "    plt.ylabel(name)\n",
        "    if metric == 'loss':\n",
        "      plt.ylim([0, plt.ylim()[1]])\n",
        "    elif metric == 'auc':\n",
        "      plt.ylim([0.8,1])\n",
        "    else:\n",
        "      plt.ylim([0,1])\n",
        "\n",
        "    plt.legend()"
      ],
      "execution_count": null,
      "outputs": []
    },
    {
      "cell_type": "code",
      "metadata": {
        "id": "HrSKG3Ve9ULB"
      },
      "source": [
        "def plot_loss(history, label, n):\n",
        "  # Use a log scale on y-axis to show the wide range of values.\n",
        "  plt.semilogy(history.epoch, history.history['loss'],\n",
        "               color=colors[n], label='Train ' + label)\n",
        "  plt.semilogy(history.epoch, history.history['val_loss'],\n",
        "               color=colors[n], label='Val ' + label,\n",
        "               linestyle=\"--\")\n",
        "  plt.xlabel('Epoch')\n",
        "  plt.ylabel('Loss')\n",
        "  plt.legend()"
      ],
      "execution_count": null,
      "outputs": []
    },
    {
      "cell_type": "code",
      "metadata": {
        "id": "_TWAMoNNb-mM"
      },
      "source": [
        "METRICS = [\n",
        "      keras.metrics.TruePositives(name='tp'),\n",
        "      keras.metrics.FalsePositives(name='fp'),\n",
        "      keras.metrics.TrueNegatives(name='tn'),\n",
        "      keras.metrics.FalseNegatives(name='fn'), \n",
        "      keras.metrics.BinaryAccuracy(name='accuracy'),\n",
        "      keras.metrics.Precision(name='precision'),\n",
        "      keras.metrics.Recall(name='recall'),\n",
        "      keras.metrics.AUC(name='auc'),\n",
        "      keras.metrics.AUC(name='prc', curve='PR'), # precision-recall curve\n",
        "]"
      ],
      "execution_count": null,
      "outputs": []
    },
    {
      "cell_type": "code",
      "metadata": {
        "id": "Tu17L01K8PO4"
      },
      "source": [
        "# Scaling by total/2 helps keep the loss to a similar magnitude.\n",
        "# The sum of the weights of all examples stays the same.\n",
        "pos = (npY.shape[0] - npY[:,2].sum())\n",
        "neg = npY[:,2].sum()\n",
        "\n",
        "weight_for_0 = (1 / (npY.shape[0] - npY[:,2].sum())) * (npY.shape[0] / 2.0)\n",
        "weight_for_1 = (1 / npY[:,2].sum()) * (npY.shape[0] / 2.0)\n",
        "\n",
        "class_weight = {0: weight_for_0, 1: weight_for_1}\n",
        "\n",
        "print('Weight for class 0: {:.2f}'.format(weight_for_0))\n",
        "print('Weight for class 1: {:.2f}'.format(weight_for_1))"
      ],
      "execution_count": null,
      "outputs": []
    },
    {
      "cell_type": "code",
      "metadata": {
        "id": "9LK8jlQR8X7O"
      },
      "source": [
        "npX2 = npX.reshape(-1, npX.shape[2], npX.shape[1])\n",
        "npX2test = npXtest.reshape(-1, npXtest.shape[2], npXtest.shape[1])\n",
        "\n",
        "\n",
        "npX3 = npX.reshape(-1, npX.shape[2], npX.shape[1])\n",
        "npX3est = npXtest.reshape(-1, npXtest.shape[2], npXtest.shape[1])\n"
      ],
      "execution_count": null,
      "outputs": []
    },
    {
      "cell_type": "code",
      "metadata": {
        "id": "PRif445080wx"
      },
      "source": [
        "npX4 = npX.reshape(-1, npX.shape[2], 11, 62)\n",
        "npX4test = npXtest.reshape(-1, npXtest.shape[2], 11, 62)\n",
        "npX4test.shape"
      ],
      "execution_count": null,
      "outputs": []
    },
    {
      "cell_type": "code",
      "metadata": {
        "id": "047YU9deHzmY"
      },
      "source": [
        "def convert(x):\n",
        "  return 1 if x > 0.5 else 0"
      ],
      "execution_count": null,
      "outputs": []
    },
    {
      "cell_type": "code",
      "metadata": {
        "id": "dXY7cmG164Af"
      },
      "source": [
        "N_TRAIN = npX.shape[0]\n",
        "BATCH_SIZE = 240\n",
        "STEPS_PER_EPOCH = N_TRAIN//BATCH_SIZE"
      ],
      "execution_count": null,
      "outputs": []
    },
    {
      "cell_type": "code",
      "metadata": {
        "id": "Wq8TNOFr5Vz5",
        "outputId": "aa373363-44c9-474a-87c1-39ccb70d6cf3"
      },
      "source": [
        "lr_schedule = tf.keras.optimizers.schedules.InverseTimeDecay(\n",
        "  0.001,\n",
        "  decay_steps=STEPS_PER_EPOCH*10,\n",
        "  decay_rate=1,\n",
        "  staircase=False)\n",
        "\n",
        "def get_optimizer():\n",
        "  return tf.keras.optimizers.Adam(lr_schedule)"
      ],
      "execution_count": null,
      "outputs": [
        {
          "ename": "AttributeError",
          "evalue": "module 'tensorflow._api.v1.keras.optimizers' has no attribute 'schedules'",
          "output_type": "error",
          "traceback": [
            "\u001b[0;31m---------------------------------------------------------------------------\u001b[0m",
            "\u001b[0;31mAttributeError\u001b[0m                            Traceback (most recent call last)",
            "\u001b[0;32m<ipython-input-39-3dacf64bcfcc>\u001b[0m in \u001b[0;36m<module>\u001b[0;34m\u001b[0m\n\u001b[0;32m----> 1\u001b[0;31m lr_schedule = tf.keras.optimizers.schedules.InverseTimeDecay(\n\u001b[0m\u001b[1;32m      2\u001b[0m   \u001b[0;36m0.001\u001b[0m\u001b[0;34m,\u001b[0m\u001b[0;34m\u001b[0m\u001b[0;34m\u001b[0m\u001b[0m\n\u001b[1;32m      3\u001b[0m   \u001b[0mdecay_steps\u001b[0m\u001b[0;34m=\u001b[0m\u001b[0mSTEPS_PER_EPOCH\u001b[0m\u001b[0;34m*\u001b[0m\u001b[0;36m10\u001b[0m\u001b[0;34m,\u001b[0m\u001b[0;34m\u001b[0m\u001b[0;34m\u001b[0m\u001b[0m\n\u001b[1;32m      4\u001b[0m   \u001b[0mdecay_rate\u001b[0m\u001b[0;34m=\u001b[0m\u001b[0;36m1\u001b[0m\u001b[0;34m,\u001b[0m\u001b[0;34m\u001b[0m\u001b[0;34m\u001b[0m\u001b[0m\n\u001b[1;32m      5\u001b[0m   staircase=False)\n",
            "\u001b[0;31mAttributeError\u001b[0m: module 'tensorflow._api.v1.keras.optimizers' has no attribute 'schedules'"
          ]
        }
      ]
    },
    {
      "cell_type": "markdown",
      "metadata": {
        "id": "GCKZxbwzqcCu"
      },
      "source": [
        "## Dense"
      ]
    },
    {
      "cell_type": "markdown",
      "metadata": {
        "id": "FjnsXQdmPpIk"
      },
      "source": [
        "### Todos"
      ]
    },
    {
      "cell_type": "code",
      "metadata": {
        "colab": {
          "base_uri": "https://localhost:8080/"
        },
        "id": "SDiX0d4xPqgc",
        "outputId": "fa368b48-16d9-4fc1-fb8f-c71215567844"
      },
      "source": [
        "model2 = keras.Sequential([\n",
        "    keras.Input(shape=(npX.shape[1], npX.shape[2])),\n",
        "    #layers.Dense(128, activation='relu', kernel_regularizer=regularizers.l2(0.001)),\n",
        "    #keras.layers.Dropout(0.5),\n",
        "    #layers.Dense(128, activation='relu', kernel_regularizer=regularizers.l2(0.001)),\n",
        "    #layers.Dense(512, activation='relu', kernel_regularizer=regularizers.l2(0.001)),\n",
        "    #layers.Dense(256, activation='relu'),\n",
        "    #keras.layers.Dropout(0.5),\n",
        "    #layers.Dense(512, activation='relu'),\n",
        "    #keras.layers.Dropout(0.5),\n",
        "    layers.Dense(128, activation='relu'),\n",
        "    keras.layers.Dropout(0.5),\n",
        "    layers.Dense(128, activation='relu'),\n",
        "    keras.layers.Dropout(0.5),\n",
        "    layers.Dense(128, activation='relu'),\n",
        "    keras.layers.Dropout(0.5),\n",
        "    #layers.Dense(128, activation='relu'),\n",
        "    #keras.layers.Dropout(0.2),\n",
        "    #layers.Dense(128, activation='relu'),\n",
        "    #keras.layers.Dropout(0.2),\n",
        "    #layers.Dense(128, activation='relu'),\n",
        "    #keras.layers.Dropout(0.2),\n",
        "    #layers.Dense(128, activation='relu'),\n",
        "    layers.Flatten(),\n",
        "    #layers.Dense(1, activation='sigmoid'),\n",
        "    layers.Dense(npY.shape[1], activation='sigmoid'),\n",
        "])\n",
        "\n",
        "model2.summary()"
      ],
      "execution_count": null,
      "outputs": [
        {
          "name": "stdout",
          "output_type": "stream",
          "text": [
            "Model: \"sequential_12\"\n",
            "_________________________________________________________________\n",
            "Layer (type)                 Output Shape              Param #   \n",
            "=================================================================\n",
            "dense_37 (Dense)             (None, 682, 128)          1664      \n",
            "_________________________________________________________________\n",
            "dropout_29 (Dropout)         (None, 682, 128)          0         \n",
            "_________________________________________________________________\n",
            "dense_38 (Dense)             (None, 682, 128)          16512     \n",
            "_________________________________________________________________\n",
            "dropout_30 (Dropout)         (None, 682, 128)          0         \n",
            "_________________________________________________________________\n",
            "dense_39 (Dense)             (None, 682, 128)          16512     \n",
            "_________________________________________________________________\n",
            "dropout_31 (Dropout)         (None, 682, 128)          0         \n",
            "_________________________________________________________________\n",
            "flatten_12 (Flatten)         (None, 87296)             0         \n",
            "_________________________________________________________________\n",
            "dense_40 (Dense)             (None, 28)                2444316   \n",
            "=================================================================\n",
            "Total params: 2,479,004\n",
            "Trainable params: 2,479,004\n",
            "Non-trainable params: 0\n",
            "_________________________________________________________________\n"
          ]
        }
      ]
    },
    {
      "cell_type": "code",
      "metadata": {
        "colab": {
          "base_uri": "https://localhost:8080/"
        },
        "id": "wj6LIELTPtqN",
        "outputId": "a93baf44-aa55-4672-c143-2b7f1d66a63d"
      },
      "source": [
        "%%time\n",
        "def get_callbacks(name):\n",
        "  return [ tf.keras.callbacks.EarlyStopping(monitor='val_prc', patience=3), tf.keras.callbacks.TensorBoard(logdir/name)]\n",
        "\n",
        "model2.compile(\n",
        "    loss=keras.losses.BinaryCrossentropy(from_logits=False),\n",
        "    #optimizer=keras.optimizers.Adam(learning_rate=1e-3),\n",
        "    optimizer=get_optimizer(),\n",
        "    metrics=[METRICS],\n",
        ")\n",
        "\n",
        "history_mlpt = model2.fit(\n",
        "    npX, npY[:,:], validation_data=(npXtest, npYtest[:,:]), batch_size=BATCH_SIZE, epochs=30, callbacks=get_callbacks('MLP')\n",
        ")\n",
        "plot_metrics(history_mlpt)"
      ],
      "execution_count": null,
      "outputs": [
        {
          "name": "stdout",
          "output_type": "stream",
          "text": [
            "Epoch 1/30\n",
            "37/37 [==============================] - 8s 147ms/step - loss: 0.3957 - tp: 1721.0000 - fp: 10111.0000 - tn: 270831.0000 - fn: 23769.0000 - accuracy: 0.8894 - precision: 0.1455 - recall: 0.0675 - auc: 0.6428 - prc: 0.1311 - val_loss: 0.4379 - val_tp: 6.0000 - val_fp: 37.0000 - val_tn: 57144.0000 - val_fn: 3629.0000 - val_accuracy: 0.9397 - val_precision: 0.1395 - val_recall: 0.0017 - val_auc: 0.6899 - val_prc: 0.1451\n",
            "Epoch 2/30\n",
            "37/37 [==============================] - 3s 94ms/step - loss: 0.2706 - tp: 174.0000 - fp: 93.0000 - tn: 223668.0000 - fn: 21681.0000 - accuracy: 0.9113 - precision: 0.6517 - recall: 0.0080 - auc: 0.7370 - prc: 0.2443 - val_loss: 0.4041 - val_tp: 27.0000 - val_fp: 120.0000 - val_tn: 57061.0000 - val_fn: 3608.0000 - val_accuracy: 0.9387 - val_precision: 0.1837 - val_recall: 0.0074 - val_auc: 0.7122 - val_prc: 0.1477\n",
            "Epoch 3/30\n",
            "37/37 [==============================] - 3s 93ms/step - loss: 0.2604 - tp: 431.0000 - fp: 205.0000 - tn: 223556.0000 - fn: 21424.0000 - accuracy: 0.9119 - precision: 0.6777 - recall: 0.0197 - auc: 0.7635 - prc: 0.2770 - val_loss: 0.4179 - val_tp: 74.0000 - val_fp: 340.0000 - val_tn: 56841.0000 - val_fn: 3561.0000 - val_accuracy: 0.9359 - val_precision: 0.1787 - val_recall: 0.0204 - val_auc: 0.7031 - val_prc: 0.1308\n",
            "Epoch 4/30\n",
            "37/37 [==============================] - 3s 94ms/step - loss: 0.2549 - tp: 767.0000 - fp: 385.0000 - tn: 223376.0000 - fn: 21088.0000 - accuracy: 0.9126 - precision: 0.6658 - recall: 0.0351 - auc: 0.7796 - prc: 0.2988 - val_loss: 0.3847 - val_tp: 64.0000 - val_fp: 481.0000 - val_tn: 56700.0000 - val_fn: 3571.0000 - val_accuracy: 0.9334 - val_precision: 0.1174 - val_recall: 0.0176 - val_auc: 0.6933 - val_prc: 0.1148\n",
            "Epoch 5/30\n",
            "37/37 [==============================] - 3s 94ms/step - loss: 0.2491 - tp: 1295.0000 - fp: 628.0000 - tn: 223133.0000 - fn: 20560.0000 - accuracy: 0.9137 - precision: 0.6734 - recall: 0.0593 - auc: 0.7947 - prc: 0.3235 - val_loss: 0.3790 - val_tp: 331.0000 - val_fp: 2064.0000 - val_tn: 55117.0000 - val_fn: 3304.0000 - val_accuracy: 0.9117 - val_precision: 0.1382 - val_recall: 0.0911 - val_auc: 0.6801 - val_prc: 0.1076\n",
            "Epoch 6/30\n",
            "37/37 [==============================] - 3s 92ms/step - loss: 0.2420 - tp: 1965.0000 - fp: 1152.0000 - tn: 222609.0000 - fn: 19890.0000 - accuracy: 0.9143 - precision: 0.6304 - recall: 0.0899 - auc: 0.8122 - prc: 0.3489 - val_loss: 0.3612 - val_tp: 310.0000 - val_fp: 2683.0000 - val_tn: 54498.0000 - val_fn: 3325.0000 - val_accuracy: 0.9012 - val_precision: 0.1036 - val_recall: 0.0853 - val_auc: 0.6330 - val_prc: 0.0882\n",
            "Epoch 7/30\n",
            "37/37 [==============================] - 3s 92ms/step - loss: 0.2346 - tp: 2537.0000 - fp: 1458.0000 - tn: 222303.0000 - fn: 19318.0000 - accuracy: 0.9154 - precision: 0.6350 - recall: 0.1161 - auc: 0.8297 - prc: 0.3736 - val_loss: 0.3577 - val_tp: 353.0000 - val_fp: 3270.0000 - val_tn: 53911.0000 - val_fn: 3282.0000 - val_accuracy: 0.8923 - val_precision: 0.0974 - val_recall: 0.0971 - val_auc: 0.6254 - val_prc: 0.0875\n",
            "Epoch 8/30\n",
            "37/37 [==============================] - 3s 94ms/step - loss: 0.2267 - tp: 3124.0000 - fp: 1722.0000 - tn: 222039.0000 - fn: 18731.0000 - accuracy: 0.9167 - precision: 0.6447 - recall: 0.1429 - auc: 0.8460 - prc: 0.4025 - val_loss: 0.3693 - val_tp: 471.0000 - val_fp: 4779.0000 - val_tn: 52402.0000 - val_fn: 3164.0000 - val_accuracy: 0.8694 - val_precision: 0.0897 - val_recall: 0.1296 - val_auc: 0.6200 - val_prc: 0.0851\n",
            "Epoch 9/30\n",
            "37/37 [==============================] - 3s 94ms/step - loss: 0.2188 - tp: 3705.0000 - fp: 2063.0000 - tn: 221698.0000 - fn: 18150.0000 - accuracy: 0.9177 - precision: 0.6423 - recall: 0.1695 - auc: 0.8620 - prc: 0.4301 - val_loss: 0.3595 - val_tp: 478.0000 - val_fp: 4830.0000 - val_tn: 52351.0000 - val_fn: 3157.0000 - val_accuracy: 0.8687 - val_precision: 0.0901 - val_recall: 0.1315 - val_auc: 0.6111 - val_prc: 0.0829\n",
            "Epoch 10/30\n",
            "37/37 [==============================] - 3s 94ms/step - loss: 0.2110 - tp: 4548.0000 - fp: 2445.0000 - tn: 221316.0000 - fn: 17307.0000 - accuracy: 0.9196 - precision: 0.6504 - recall: 0.2081 - auc: 0.8757 - prc: 0.4584 - val_loss: 0.3466 - val_tp: 386.0000 - val_fp: 4457.0000 - val_tn: 52724.0000 - val_fn: 3249.0000 - val_accuracy: 0.8733 - val_precision: 0.0797 - val_recall: 0.1062 - val_auc: 0.6039 - val_prc: 0.0788\n",
            "Epoch 11/30\n",
            "37/37 [==============================] - 3s 94ms/step - loss: 0.2033 - tp: 5187.0000 - fp: 2772.0000 - tn: 220989.0000 - fn: 16668.0000 - accuracy: 0.9209 - precision: 0.6517 - recall: 0.2373 - auc: 0.8877 - prc: 0.4889 - val_loss: 0.3422 - val_tp: 421.0000 - val_fp: 4528.0000 - val_tn: 52653.0000 - val_fn: 3214.0000 - val_accuracy: 0.8727 - val_precision: 0.0851 - val_recall: 0.1158 - val_auc: 0.5986 - val_prc: 0.0788\n",
            "Epoch 12/30\n",
            "37/37 [==============================] - 3s 95ms/step - loss: 0.1974 - tp: 5826.0000 - fp: 2967.0000 - tn: 220794.0000 - fn: 16029.0000 - accuracy: 0.9227 - precision: 0.6626 - recall: 0.2666 - auc: 0.8967 - prc: 0.5096 - val_loss: 0.3439 - val_tp: 425.0000 - val_fp: 4784.0000 - val_tn: 52397.0000 - val_fn: 3210.0000 - val_accuracy: 0.8686 - val_precision: 0.0816 - val_recall: 0.1169 - val_auc: 0.6036 - val_prc: 0.0793\n",
            "Epoch 13/30\n",
            "37/37 [==============================] - 3s 92ms/step - loss: 0.1894 - tp: 6572.0000 - fp: 3145.0000 - tn: 220616.0000 - fn: 15283.0000 - accuracy: 0.9250 - precision: 0.6763 - recall: 0.3007 - auc: 0.9074 - prc: 0.5415 - val_loss: 0.3402 - val_tp: 434.0000 - val_fp: 4783.0000 - val_tn: 52398.0000 - val_fn: 3201.0000 - val_accuracy: 0.8687 - val_precision: 0.0832 - val_recall: 0.1194 - val_auc: 0.6060 - val_prc: 0.0801\n",
            "Epoch 14/30\n",
            "37/37 [==============================] - 3s 93ms/step - loss: 0.1818 - tp: 7239.0000 - fp: 3255.0000 - tn: 220506.0000 - fn: 14616.0000 - accuracy: 0.9272 - precision: 0.6898 - recall: 0.3312 - auc: 0.9167 - prc: 0.5714 - val_loss: 0.3371 - val_tp: 478.0000 - val_fp: 4727.0000 - val_tn: 52454.0000 - val_fn: 3157.0000 - val_accuracy: 0.8704 - val_precision: 0.0918 - val_recall: 0.1315 - val_auc: 0.6161 - val_prc: 0.0831\n",
            "CPU times: user 23.9 s, sys: 2.3 s, total: 26.2 s\n",
            "Wall time: 53.8 s\n"
          ]
        },
        {
          "data": {
            "image/png": "[encoded data removed]",
            "text/plain": [
              "<Figure size 576x576 with 4 Axes>"
            ]
          },
          "metadata": {
            "needs_background": "light"
          },
          "output_type": "display_data"
        }
      ]
    },
    {
      "cell_type": "code",
      "metadata": {
        "id": "pwavlJ1sP9ph"
      },
      "source": [
        "pred_mlp2 = model2.predict(npXtest[:,:,:])"
      ],
      "execution_count": null,
      "outputs": []
    },
    {
      "cell_type": "code",
      "metadata": {
        "colab": {
          "base_uri": "https://localhost:8080/"
        },
        "id": "bakL2zE40iTM",
        "outputId": "aa16401d-5039-4e1b-9529-1b0a7a0071f2"
      },
      "source": [
        "accuracy_score(pd.Series(pred_mlp2.flatten()).map(convert), pd.Series(npYtest[:,:].flatten()))"
      ],
      "execution_count": null,
      "outputs": [
        {
          "data": {
            "text/plain": [
              "0.8703630623520127"
            ]
          },
          "execution_count": 212,
          "metadata": {},
          "output_type": "execute_result"
        }
      ]
    },
    {
      "cell_type": "code",
      "metadata": {
        "colab": {
          "base_uri": "https://localhost:8080/"
        },
        "id": "Pw_GxWEl0iOR",
        "outputId": "0add23ce-a379-4b68-c444-e071d71bc3d2"
      },
      "source": [
        "precision_score(pd.Series(pred_mlp2.flatten()).map(convert), pd.Series(npYtest[:,:].flatten()))"
      ],
      "execution_count": null,
      "outputs": [
        {
          "data": {
            "text/plain": [
              "0.13149931224209077"
            ]
          },
          "execution_count": 213,
          "metadata": {},
          "output_type": "execute_result"
        }
      ]
    },
    {
      "cell_type": "code",
      "metadata": {
        "colab": {
          "base_uri": "https://localhost:8080/"
        },
        "id": "N60ChVwF0iDq",
        "outputId": "95252ab6-538f-46f4-c58a-39e65e539f26"
      },
      "source": [
        "recall_score(pd.Series(pred_mlp2.flatten()).map(convert), pd.Series(npYtest[:,:].flatten()))"
      ],
      "execution_count": null,
      "outputs": [
        {
          "data": {
            "text/plain": [
              "0.09183477425552354"
            ]
          },
          "execution_count": 214,
          "metadata": {},
          "output_type": "execute_result"
        }
      ]
    },
    {
      "cell_type": "code",
      "metadata": {
        "colab": {
          "base_uri": "https://localhost:8080/"
        },
        "id": "TUbs3SC3P6BQ",
        "outputId": "3be8742f-6e61-400a-a025-0350cf1d3500"
      },
      "source": [
        "f1_score(pd.Series(pred_mlp2.flatten()).map(convert), pd.Series(npYtest[:,:].flatten()))"
      ],
      "execution_count": null,
      "outputs": [
        {
          "data": {
            "text/plain": [
              "0.10814479638009049"
            ]
          },
          "execution_count": 215,
          "metadata": {},
          "output_type": "execute_result"
        }
      ]
    },
    {
      "cell_type": "code",
      "metadata": {
        "colab": {
          "base_uri": "https://localhost:8080/"
        },
        "id": "b8TfuChYLTQL",
        "outputId": "24a846b7-33f7-4ca5-b99a-c44a604e14c4"
      },
      "source": [
        "results = {}\n",
        "pred_mlp2 = model2.predict(npXtest[:,:,:])\n",
        "for k, b in enumerate(pred_mlp2.T):\n",
        "  results[bairros[k]] = {}\n",
        "  results[bairros[k]]['acuracia'] = accuracy_score(npYtest[:,k], pd.Series(pred_mlp2[:,k].flatten()).map(convert))\n",
        "  results[bairros[k]]['precisao'] = precision_score(npYtest[:,k], pd.Series(pred_mlp2[:,k].flatten()).map(convert))\n",
        "  results[bairros[k]]['cobertura'] = recall_score(npYtest[:,k], pd.Series(pred_mlp2[:,k].flatten()).map(convert))\n",
        "  results[bairros[k]]['f1'] = f1_score(npYtest[:,k], pd.Series(pred_mlp2[:,k].flatten()).map(convert))\n",
        "\n",
        "resultado = pd.DataFrame(results).T\n",
        "\n",
        "\n",
        "with pd.ExcelWriter(path,mode='a') as writer:\n",
        "    resultado.to_excel(writer, sheet_name='mlp')"
      ],
      "execution_count": null,
      "outputs": [
        {
          "name": "stderr",
          "output_type": "stream",
          "text": [
            "/usr/local/lib/python3.7/dist-packages/sklearn/metrics/_classification.py:1272: UndefinedMetricWarning: Recall is ill-defined and being set to 0.0 due to no true samples. Use `zero_division` parameter to control this behavior.\n",
            "  _warn_prf(average, modifier, msg_start, len(result))\n",
            "/usr/local/lib/python3.7/dist-packages/sklearn/metrics/_classification.py:1272: UndefinedMetricWarning: Precision is ill-defined and being set to 0.0 due to no predicted samples. Use `zero_division` parameter to control this behavior.\n",
            "  _warn_prf(average, modifier, msg_start, len(result))\n"
          ]
        }
      ]
    },
    {
      "cell_type": "markdown",
      "metadata": {
        "id": "2S8I_Pzz7CDJ"
      },
      "source": [
        "## LSTM"
      ]
    },
    {
      "cell_type": "markdown",
      "metadata": {
        "id": "HCd8snbUR_0B"
      },
      "source": [
        "### Todos"
      ]
    },
    {
      "cell_type": "code",
      "metadata": {
        "colab": {
          "base_uri": "https://localhost:8080/"
        },
        "id": "zaLSMsCASJjs",
        "outputId": "4340206a-0670-4a75-de95-db2ddc19e3dc"
      },
      "source": [
        "model = keras.Sequential([\n",
        "    keras.Input(shape=(npX.shape[2], npX.shape[1])),\n",
        "    layers.LSTM(128, return_sequences=True),\n",
        "    keras.layers.Dropout(0.5),\n",
        "    layers.Dense(128, activation='relu'),\n",
        "    keras.layers.Dropout(0.5),\n",
        "    #layers.GRU(512, return_sequences=True),\n",
        "    layers.Flatten(),\n",
        "    layers.Dense(npY.shape[1], activation='sigmoid'),\n",
        "])\n",
        "\n",
        "model.summary()"
      ],
      "execution_count": null,
      "outputs": [
        {
          "name": "stdout",
          "output_type": "stream",
          "text": [
            "Model: \"sequential_6\"\n",
            "_________________________________________________________________\n",
            "Layer (type)                 Output Shape              Param #   \n",
            "=================================================================\n",
            "lstm_2 (LSTM)                (None, 12, 128)           415232    \n",
            "_________________________________________________________________\n",
            "dropout_12 (Dropout)         (None, 12, 128)           0         \n",
            "_________________________________________________________________\n",
            "dense_15 (Dense)             (None, 12, 128)           16512     \n",
            "_________________________________________________________________\n",
            "dropout_13 (Dropout)         (None, 12, 128)           0         \n",
            "_________________________________________________________________\n",
            "flatten_6 (Flatten)          (None, 1536)              0         \n",
            "_________________________________________________________________\n",
            "dense_16 (Dense)             (None, 28)                43036     \n",
            "=================================================================\n",
            "Total params: 474,780\n",
            "Trainable params: 474,780\n",
            "Non-trainable params: 0\n",
            "_________________________________________________________________\n"
          ]
        }
      ]
    },
    {
      "cell_type": "code",
      "metadata": {
        "colab": {
          "base_uri": "https://localhost:8080/",
          "height": 1000
        },
        "id": "C3zXY2jlUszD",
        "outputId": "da933928-408b-45d5-f687-12d1a578a35c"
      },
      "source": [
        "%%time\n",
        "def get_callbacks(name):\n",
        "  return [ tf.keras.callbacks.EarlyStopping(monitor='val_prc', patience=3), tf.keras.callbacks.TensorBoard(logdir/name)]\n",
        "\n",
        "\n",
        "model.compile(\n",
        "    loss=keras.losses.BinaryCrossentropy(from_logits=False),\n",
        "    optimizer=get_optimizer(),\n",
        "    #optimizer=keras.optimizers.RMSprop(learning_rate=1e-3),\n",
        "    metrics=[METRICS],\n",
        ")\n",
        "\n",
        "\n",
        "history_lstm = model.fit(\n",
        "    npX2, npY[:,:], validation_data=(npX2test, npYtest[:,:]), batch_size=BATCH_SIZE, epochs=20, callbacks=get_callbacks('LSTM')\n",
        ")\n",
        "plot_metrics(history_lstm)"
      ],
      "execution_count": null,
      "outputs": [
        {
          "name": "stdout",
          "output_type": "stream",
          "text": [
            "Epoch 1/20\n",
            "37/37 [==============================] - 7s 92ms/step - loss: 0.3301 - tp: 1612.0000 - fp: 8965.0000 - tn: 271977.0000 - fn: 23878.0000 - accuracy: 0.8928 - precision: 0.1524 - recall: 0.0632 - auc: 0.6490 - prc: 0.1310 - val_loss: 0.2382 - val_tp: 27.0000 - val_fp: 87.0000 - val_tn: 57094.0000 - val_fn: 3608.0000 - val_accuracy: 0.9392 - val_precision: 0.2368 - val_recall: 0.0074 - val_auc: 0.7178 - val_prc: 0.1520\n",
            "Epoch 2/20\n",
            "37/37 [==============================] - 1s 26ms/step - loss: 0.2670 - tp: 921.0000 - fp: 876.0000 - tn: 222885.0000 - fn: 20934.0000 - accuracy: 0.9112 - precision: 0.5125 - recall: 0.0421 - auc: 0.7432 - prc: 0.2515 - val_loss: 0.2385 - val_tp: 65.0000 - val_fp: 245.0000 - val_tn: 56936.0000 - val_fn: 3570.0000 - val_accuracy: 0.9373 - val_precision: 0.2097 - val_recall: 0.0179 - val_auc: 0.7176 - val_prc: 0.1393\n",
            "Epoch 3/20\n",
            "37/37 [==============================] - 1s 27ms/step - loss: 0.2597 - tp: 1280.0000 - fp: 1092.0000 - tn: 222669.0000 - fn: 20575.0000 - accuracy: 0.9118 - precision: 0.5396 - recall: 0.0586 - auc: 0.7657 - prc: 0.2788 - val_loss: 0.2415 - val_tp: 96.0000 - val_fp: 453.0000 - val_tn: 56728.0000 - val_fn: 3539.0000 - val_accuracy: 0.9344 - val_precision: 0.1749 - val_recall: 0.0264 - val_auc: 0.7049 - val_prc: 0.1309\n",
            "Epoch 4/20\n",
            "37/37 [==============================] - 1s 27ms/step - loss: 0.2541 - tp: 1406.0000 - fp: 979.0000 - tn: 222782.0000 - fn: 20449.0000 - accuracy: 0.9128 - precision: 0.5895 - recall: 0.0643 - auc: 0.7806 - prc: 0.3034 - val_loss: 0.2459 - val_tp: 100.0000 - val_fp: 586.0000 - val_tn: 56595.0000 - val_fn: 3535.0000 - val_accuracy: 0.9322 - val_precision: 0.1458 - val_recall: 0.0275 - val_auc: 0.6975 - val_prc: 0.1231\n",
            "Epoch 5/20\n",
            "37/37 [==============================] - 1s 27ms/step - loss: 0.2499 - tp: 1668.0000 - fp: 1135.0000 - tn: 222626.0000 - fn: 20187.0000 - accuracy: 0.9132 - precision: 0.5951 - recall: 0.0763 - auc: 0.7917 - prc: 0.3210 - val_loss: 0.2453 - val_tp: 131.0000 - val_fp: 765.0000 - val_tn: 56416.0000 - val_fn: 3504.0000 - val_accuracy: 0.9298 - val_precision: 0.1462 - val_recall: 0.0360 - val_auc: 0.6951 - val_prc: 0.1201\n",
            "Epoch 6/20\n",
            "37/37 [==============================] - 1s 27ms/step - loss: 0.2464 - tp: 1838.0000 - fp: 1191.0000 - tn: 222570.0000 - fn: 20017.0000 - accuracy: 0.9137 - precision: 0.6068 - recall: 0.0841 - auc: 0.8002 - prc: 0.3345 - val_loss: 0.2483 - val_tp: 156.0000 - val_fp: 942.0000 - val_tn: 56239.0000 - val_fn: 3479.0000 - val_accuracy: 0.9273 - val_precision: 0.1421 - val_recall: 0.0429 - val_auc: 0.6915 - val_prc: 0.1161\n",
            "Epoch 7/20\n",
            "37/37 [==============================] - 1s 27ms/step - loss: 0.2430 - tp: 2076.0000 - fp: 1248.0000 - tn: 222513.0000 - fn: 19779.0000 - accuracy: 0.9144 - precision: 0.6245 - recall: 0.0950 - auc: 0.8085 - prc: 0.3483 - val_loss: 0.2477 - val_tp: 171.0000 - val_fp: 1104.0000 - val_tn: 56077.0000 - val_fn: 3464.0000 - val_accuracy: 0.9249 - val_precision: 0.1341 - val_recall: 0.0470 - val_auc: 0.6910 - val_prc: 0.1154\n",
            "Epoch 8/20\n",
            "37/37 [==============================] - 1s 28ms/step - loss: 0.2403 - tp: 2291.0000 - fp: 1380.0000 - tn: 222381.0000 - fn: 19564.0000 - accuracy: 0.9147 - precision: 0.6241 - recall: 0.1048 - auc: 0.8154 - prc: 0.3569 - val_loss: 0.2531 - val_tp: 199.0000 - val_fp: 1246.0000 - val_tn: 55935.0000 - val_fn: 3436.0000 - val_accuracy: 0.9230 - val_precision: 0.1377 - val_recall: 0.0547 - val_auc: 0.6870 - val_prc: 0.1118\n",
            "Epoch 9/20\n",
            "37/37 [==============================] - 1s 28ms/step - loss: 0.2379 - tp: 2500.0000 - fp: 1443.0000 - tn: 222318.0000 - fn: 19355.0000 - accuracy: 0.9153 - precision: 0.6340 - recall: 0.1144 - auc: 0.8206 - prc: 0.3672 - val_loss: 0.2472 - val_tp: 178.0000 - val_fp: 1098.0000 - val_tn: 56083.0000 - val_fn: 3457.0000 - val_accuracy: 0.9251 - val_precision: 0.1395 - val_recall: 0.0490 - val_auc: 0.6873 - val_prc: 0.1130\n",
            "Epoch 10/20\n",
            "37/37 [==============================] - 1s 27ms/step - loss: 0.2354 - tp: 2710.0000 - fp: 1625.0000 - tn: 222136.0000 - fn: 19145.0000 - accuracy: 0.9154 - precision: 0.6251 - recall: 0.1240 - auc: 0.8263 - prc: 0.3756 - val_loss: 0.2513 - val_tp: 187.0000 - val_fp: 1217.0000 - val_tn: 55964.0000 - val_fn: 3448.0000 - val_accuracy: 0.9233 - val_precision: 0.1332 - val_recall: 0.0514 - val_auc: 0.6815 - val_prc: 0.1095\n",
            "Epoch 11/20\n",
            "37/37 [==============================] - 1s 27ms/step - loss: 0.2331 - tp: 2728.0000 - fp: 1540.0000 - tn: 222221.0000 - fn: 19127.0000 - accuracy: 0.9159 - precision: 0.6392 - recall: 0.1248 - auc: 0.8312 - prc: 0.3848 - val_loss: 0.2564 - val_tp: 228.0000 - val_fp: 1506.0000 - val_tn: 55675.0000 - val_fn: 3407.0000 - val_accuracy: 0.9192 - val_precision: 0.1315 - val_recall: 0.0627 - val_auc: 0.6809 - val_prc: 0.1092\n",
            "Epoch 12/20\n",
            "37/37 [==============================] - 1s 27ms/step - loss: 0.2309 - tp: 2955.0000 - fp: 1710.0000 - tn: 222051.0000 - fn: 18900.0000 - accuracy: 0.9161 - precision: 0.6334 - recall: 0.1352 - auc: 0.8365 - prc: 0.3912 - val_loss: 0.2524 - val_tp: 227.0000 - val_fp: 1438.0000 - val_tn: 55743.0000 - val_fn: 3408.0000 - val_accuracy: 0.9203 - val_precision: 0.1363 - val_recall: 0.0624 - val_auc: 0.6820 - val_prc: 0.1113\n",
            "Epoch 13/20\n",
            "37/37 [==============================] - 1s 27ms/step - loss: 0.2287 - tp: 3018.0000 - fp: 1740.0000 - tn: 222021.0000 - fn: 18837.0000 - accuracy: 0.9162 - precision: 0.6343 - recall: 0.1381 - auc: 0.8409 - prc: 0.3991 - val_loss: 0.2539 - val_tp: 227.0000 - val_fp: 1447.0000 - val_tn: 55734.0000 - val_fn: 3408.0000 - val_accuracy: 0.9202 - val_precision: 0.1356 - val_recall: 0.0624 - val_auc: 0.6792 - val_prc: 0.1102\n",
            "Epoch 14/20\n",
            "37/37 [==============================] - 1s 28ms/step - loss: 0.2263 - tp: 3268.0000 - fp: 1834.0000 - tn: 221927.0000 - fn: 18587.0000 - accuracy: 0.9169 - precision: 0.6405 - recall: 0.1495 - auc: 0.8458 - prc: 0.4089 - val_loss: 0.2528 - val_tp: 228.0000 - val_fp: 1361.0000 - val_tn: 55820.0000 - val_fn: 3407.0000 - val_accuracy: 0.9216 - val_precision: 0.1435 - val_recall: 0.0627 - val_auc: 0.6749 - val_prc: 0.1095\n",
            "CPU times: user 19.8 s, sys: 1.73 s, total: 21.5 s\n",
            "Wall time: 24.7 s\n"
          ]
        },
        {
          "data": {
            "image/png": "[encoded data removed]",
            "text/plain": [
              "<Figure size 576x576 with 4 Axes>"
            ]
          },
          "metadata": {
            "needs_background": "light"
          },
          "output_type": "display_data"
        }
      ]
    },
    {
      "cell_type": "code",
      "metadata": {
        "id": "ZzTWKOyW_iQt"
      },
      "source": [
        "pred_mlp2 = model2.predict(npXtest[:,:,:])"
      ],
      "execution_count": null,
      "outputs": []
    },
    {
      "cell_type": "code",
      "metadata": {
        "colab": {
          "base_uri": "https://localhost:8080/"
        },
        "id": "vk_3jQvb_h--",
        "outputId": "1ed08cda-76af-4c8d-f9fc-e879e6b9daab"
      },
      "source": [
        "accuracy_score(pd.Series(pred_mlp2.flatten()).map(convert), pd.Series(npYtest[:,:].flatten()))"
      ],
      "execution_count": null,
      "outputs": [
        {
          "data": {
            "text/plain": [
              "0.8611385161799526"
            ]
          },
          "execution_count": 164,
          "metadata": {},
          "output_type": "execute_result"
        }
      ]
    },
    {
      "cell_type": "code",
      "metadata": {
        "colab": {
          "base_uri": "https://localhost:8080/"
        },
        "id": "Ho3m8KQ1_h7B",
        "outputId": "48e489e1-906e-40fa-f821-9b22a38e3166"
      },
      "source": [
        "precision_score(pd.Series(pred_mlp2.flatten()).map(convert), pd.Series(npYtest[:,:].flatten()))"
      ],
      "execution_count": null,
      "outputs": [
        {
          "data": {
            "text/plain": [
              "0.1515818431911967"
            ]
          },
          "execution_count": 165,
          "metadata": {},
          "output_type": "execute_result"
        }
      ]
    },
    {
      "cell_type": "code",
      "metadata": {
        "colab": {
          "base_uri": "https://localhost:8080/"
        },
        "id": "uWPKqZWJ_h3g",
        "outputId": "923e81d3-016d-420e-a495-385e7295dc0a"
      },
      "source": [
        "recall_score(pd.Series(pred_mlp2.flatten()).map(convert), pd.Series(npYtest[:,:].flatten()))"
      ],
      "execution_count": null,
      "outputs": [
        {
          "data": {
            "text/plain": [
              "0.09320027063599459"
            ]
          },
          "execution_count": 166,
          "metadata": {},
          "output_type": "execute_result"
        }
      ]
    },
    {
      "cell_type": "code",
      "metadata": {
        "colab": {
          "base_uri": "https://localhost:8080/"
        },
        "id": "gMyxllYY_hr1",
        "outputId": "1cb573cd-5646-4afa-e8f6-ca0bff7ec54f"
      },
      "source": [
        "f1_score(pd.Series(pred_mlp2.flatten()).map(convert), pd.Series(npYtest[:,:].flatten()))"
      ],
      "execution_count": null,
      "outputs": [
        {
          "data": {
            "text/plain": [
              "0.11542893055410076"
            ]
          },
          "execution_count": 167,
          "metadata": {},
          "output_type": "execute_result"
        }
      ]
    },
    {
      "cell_type": "code",
      "metadata": {
        "colab": {
          "base_uri": "https://localhost:8080/"
        },
        "id": "9-SfcgK6UERZ",
        "outputId": "79176870-b265-488e-81ff-2decf3805c04"
      },
      "source": [
        "results = {}\n",
        "pred_mlp2 = model.predict(npX2test[:,:,:])\n",
        "for k, b in enumerate(pred_mlp2.T):\n",
        "  results[bairros[k]] = {}\n",
        "  results[bairros[k]]['acuracia'] = accuracy_score(npYtest[:,k], pd.Series(pred_mlp2[:,k].flatten()).map(convert))\n",
        "  results[bairros[k]]['precisao'] = precision_score(npYtest[:,k], pd.Series(pred_mlp2[:,k].flatten()).map(convert))\n",
        "  results[bairros[k]]['cobertura'] = recall_score(npYtest[:,k], pd.Series(pred_mlp2[:,k].flatten()).map(convert))\n",
        "  results[bairros[k]]['f1'] = f1_score(npYtest[:,k], pd.Series(pred_mlp2[:,k].flatten()).map(convert))\n",
        "\n",
        "resultado = pd.DataFrame(results).T\n",
        "\n",
        "\n",
        "with pd.ExcelWriter(path,mode='a') as writer:\n",
        "    resultado.to_excel(writer, sheet_name='lstm')"
      ],
      "execution_count": null,
      "outputs": [
        {
          "name": "stderr",
          "output_type": "stream",
          "text": [
            "/usr/local/lib/python3.7/dist-packages/sklearn/metrics/_classification.py:1272: UndefinedMetricWarning: Precision is ill-defined and being set to 0.0 due to no predicted samples. Use `zero_division` parameter to control this behavior.\n",
            "  _warn_prf(average, modifier, msg_start, len(result))\n",
            "/usr/local/lib/python3.7/dist-packages/sklearn/metrics/_classification.py:1272: UndefinedMetricWarning: Recall is ill-defined and being set to 0.0 due to no true samples. Use `zero_division` parameter to control this behavior.\n",
            "  _warn_prf(average, modifier, msg_start, len(result))\n",
            "/usr/local/lib/python3.7/dist-packages/sklearn/metrics/_classification.py:1515: UndefinedMetricWarning: F-score is ill-defined and being set to 0.0 due to no true nor predicted samples. Use `zero_division` parameter to control this behavior.\n",
            "  average, \"true nor predicted\", 'F-score is', len(true_sum)\n"
          ]
        }
      ]
    },
    {
      "cell_type": "markdown",
      "metadata": {
        "id": "D-62cCtf3N3E"
      },
      "source": [
        "### Res LSTM\n"
      ]
    },
    {
      "cell_type": "code",
      "metadata": {
        "id": "eCuJbAEm3Q4u"
      },
      "source": [
        "class ResidualWrapper(tf.keras.Model):\n",
        "  def __init__(self, model):\n",
        "    super().__init__()\n",
        "    self.model = model\n",
        "\n",
        "  def call(self, inputs, *args, **kwargs):\n",
        "    delta = self.model(inputs, *args, **kwargs)\n",
        "\n",
        "    # The prediction for each time step is the input\n",
        "    # from the previous time step plus the delta\n",
        "    # calculated by the model.\n",
        "    return inputs + delta"
      ],
      "execution_count": null,
      "outputs": []
    },
    {
      "cell_type": "code",
      "metadata": {
        "colab": {
          "base_uri": "https://localhost:8080/"
        },
        "id": "DO2MTZm03RIX",
        "outputId": "c146dda4-ebc5-40d1-d08d-9e0de5262874"
      },
      "source": [
        "%%time\n",
        "\"\"\"\n",
        "residual_lstm = ResidualWrapper(\n",
        "    tf.keras.Sequential([\n",
        "    tf.keras.layers.LSTM(32, return_sequences=True),\n",
        "    tf.keras.layers.Dense(\n",
        "        num_features,\n",
        "        # The predicted deltas should start small.\n",
        "        # Therefore, initialize the output layer with zeros.\n",
        "        kernel_initializer=tf.initializers.zeros())\n",
        "]))\n",
        "\n",
        "history = compile_and_fit(residual_lstm, wide_window)\n",
        "\n",
        "IPython.display.clear_output()\n",
        "val_performance['Residual LSTM'] = residual_lstm.evaluate(wide_window.val)\n",
        "performance['Residual LSTM'] = residual_lstm.evaluate(wide_window.test, verbose=0)\n",
        "print()\n",
        "\"\"\""
      ],
      "execution_count": null,
      "outputs": [
        {
          "name": "stdout",
          "output_type": "stream",
          "text": [
            "CPU times: user 6 µs, sys: 0 ns, total: 6 µs\n",
            "Wall time: 10.5 µs\n"
          ]
        },
        {
          "data": {
            "application/vnd.google.colaboratory.intrinsic+json": {
              "type": "string"
            },
            "text/plain": [
              "\"\\nresidual_lstm = ResidualWrapper(\\n    tf.keras.Sequential([\\n    tf.keras.layers.LSTM(32, return_sequences=True),\\n    tf.keras.layers.Dense(\\n        num_features,\\n        # The predicted deltas should start small.\\n        # Therefore, initialize the output layer with zeros.\\n        kernel_initializer=tf.initializers.zeros())\\n]))\\n\\nhistory = compile_and_fit(residual_lstm, wide_window)\\n\\nIPython.display.clear_output()\\nval_performance['Residual LSTM'] = residual_lstm.evaluate(wide_window.val)\\nperformance['Residual LSTM'] = residual_lstm.evaluate(wide_window.test, verbose=0)\\nprint()\\n\""
            ]
          },
          "execution_count": 137,
          "metadata": {},
          "output_type": "execute_result"
        }
      ]
    },
    {
      "cell_type": "code",
      "metadata": {
        "id": "jEAeSKjy3Rli"
      },
      "source": [
        "model = ResidualWrapper(\n",
        "    keras.Sequential([\n",
        "    keras.Input(shape=(npX.shape[2], npX.shape[1])),\n",
        "    layers.LSTM(512, return_sequences=True),\n",
        "    #layers.GRU(512, return_sequences=True),\n",
        "    layers.Flatten(),\n",
        "    layers.Dense(npY.shape[1], activation='sigmoid', kernel_initializer=tf.initializers.zeros()),\n",
        "  ])\n",
        ")"
      ],
      "execution_count": null,
      "outputs": []
    },
    {
      "cell_type": "code",
      "metadata": {
        "colab": {
          "base_uri": "https://localhost:8080/"
        },
        "id": "BE855l4634W6",
        "outputId": "c3c77a06-9e3e-4570-a875-103ef98b8fb1"
      },
      "source": [
        "# não funciona\n",
        "\"\"\"\n",
        "callback = tf.keras.callbacks.EarlyStopping(monitor='loss', patience=3)\n",
        "\n",
        "model.compile(\n",
        "    loss=keras.losses.BinaryCrossentropy(),    \n",
        "    #optimizer=keras.optimizers.Adam(learning_rate=1e-3),\n",
        "    optimizer=keras.optimizers.RMSprop(learning_rate=1e-3),\n",
        "    metrics=[METRICS],\n",
        ")\n",
        "\n",
        "\n",
        "history_reslstm = model.fit(\n",
        "    npX2, npY[:,:], validation_data=(npX2test, npYtest[:,:]), batch_size=1024, epochs=50\n",
        ")\n",
        "\"\"\""
      ],
      "execution_count": null,
      "outputs": [
        {
          "data": {
            "application/vnd.google.colaboratory.intrinsic+json": {
              "type": "string"
            },
            "text/plain": [
              "\"\\ncallback = tf.keras.callbacks.EarlyStopping(monitor='loss', patience=3)\\n\\nmodel.compile(\\n    loss=keras.losses.BinaryCrossentropy(),    \\n    #optimizer=keras.optimizers.Adam(learning_rate=1e-3),\\n    optimizer=keras.optimizers.RMSprop(learning_rate=1e-3),\\n    metrics=[METRICS],\\n)\\n\\n\\nhistory_reslstm = model.fit(\\n    npX2, npY[:,:], validation_data=(npX2test, npYtest[:,:]), batch_size=1024, epochs=50\\n)\\n\""
            ]
          },
          "execution_count": 139,
          "metadata": {},
          "output_type": "execute_result"
        }
      ]
    },
    {
      "cell_type": "markdown",
      "metadata": {
        "id": "Z50gxNNmdvLT"
      },
      "source": [
        "# CNN"
      ]
    },
    {
      "cell_type": "code",
      "metadata": {
        "colab": {
          "base_uri": "https://localhost:8080/"
        },
        "id": "4plo7NxKeM6j",
        "outputId": "d5f16856-966a-468e-c632-05af3c523ad1"
      },
      "source": [
        "CONV_WIDTH = 4\n",
        "\n",
        "model = keras.Sequential([\n",
        "    keras.Input(shape=(npX.shape[2], npX.shape[1])),\n",
        "    #layers.LSTM(512),\n",
        "    layers.Conv1D(filters=64, kernel_size=(CONV_WIDTH,), activation='relu'),\n",
        "    layers.Dropout(0.5),\n",
        "    layers.Dense(128, activation='relu'),\n",
        "    layers.Dropout(0.5),\n",
        "    #layers.Dense(512, activation='relu'),\n",
        "    #layers.Dense(512, activation='relu'),\n",
        "    #layers.Dense(512, activation='relu'),\n",
        "    #layers.Dense(npY.shape[1], activation='softmax'),\n",
        "    layers.Flatten(),\n",
        "    layers.Dense(npY.shape[1], activation='sigmoid'),\n",
        "])\n",
        "\n",
        "model.summary()\n"
      ],
      "execution_count": null,
      "outputs": [
        {
          "name": "stdout",
          "output_type": "stream",
          "text": [
            "Model: \"sequential_4\"\n",
            "_________________________________________________________________\n",
            "Layer (type)                 Output Shape              Param #   \n",
            "=================================================================\n",
            "conv1d (Conv1D)              (None, 9, 64)             174656    \n",
            "_________________________________________________________________\n",
            "dropout_8 (Dropout)          (None, 9, 64)             0         \n",
            "_________________________________________________________________\n",
            "dense_11 (Dense)             (None, 9, 128)            8320      \n",
            "_________________________________________________________________\n",
            "dropout_9 (Dropout)          (None, 9, 128)            0         \n",
            "_________________________________________________________________\n",
            "flatten_4 (Flatten)          (None, 1152)              0         \n",
            "_________________________________________________________________\n",
            "dense_12 (Dense)             (None, 28)                32284     \n",
            "=================================================================\n",
            "Total params: 215,260\n",
            "Trainable params: 215,260\n",
            "Non-trainable params: 0\n",
            "_________________________________________________________________\n"
          ]
        }
      ]
    },
    {
      "cell_type": "code",
      "metadata": {
        "colab": {
          "base_uri": "https://localhost:8080/",
          "height": 1000
        },
        "id": "M5cWL1EgmpPF",
        "outputId": "80467249-f065-40be-e4cd-716c86e92298"
      },
      "source": [
        "%%time\n",
        "def get_callbacks(name):\n",
        "  return [ tf.keras.callbacks.EarlyStopping(monitor='val_prc', patience=3), tf.keras.callbacks.TensorBoard(logdir/name)]\n",
        "\n",
        "\n",
        "model.compile(\n",
        "    #loss=keras.losses.MeanAbsoluteError(),\n",
        "    loss=keras.losses.BinaryCrossentropy(from_logits=False),\n",
        "    optimizer=get_optimizer(),    \n",
        "    #optimizer=keras.optimizers.Adam(learning_rate=1e-3),\n",
        "    metrics=[METRICS],\n",
        ")\n",
        "\n",
        "\n",
        "history_cnn = model.fit(\n",
        "    npX2, npY[:,:], validation_data=(npX2test, npYtest[:,:]), batch_size=BATCH_SIZE, epochs=20, callbacks=get_callbacks('LSTM')\n",
        ")\n",
        "\n",
        "plot_metrics(history_cnn)"
      ],
      "execution_count": null,
      "outputs": [
        {
          "name": "stdout",
          "output_type": "stream",
          "text": [
            "Epoch 1/20\n",
            "37/37 [==============================] - 29s 70ms/step - loss: 0.3410 - tp: 2043.0000 - fp: 10613.0000 - tn: 270329.0000 - fn: 23447.0000 - accuracy: 0.8888 - precision: 0.1614 - recall: 0.0801 - auc: 0.6437 - prc: 0.1316 - val_loss: 0.2177 - val_tp: 74.0000 - val_fp: 255.0000 - val_tn: 56926.0000 - val_fn: 3561.0000 - val_accuracy: 0.9373 - val_precision: 0.2249 - val_recall: 0.0204 - val_auc: 0.7061 - val_prc: 0.1418\n",
            "Epoch 2/20\n",
            "37/37 [==============================] - 1s 20ms/step - loss: 0.2776 - tp: 1280.0000 - fp: 1694.0000 - tn: 222067.0000 - fn: 20575.0000 - accuracy: 0.9093 - precision: 0.4304 - recall: 0.0586 - auc: 0.7251 - prc: 0.2286 - val_loss: 0.2219 - val_tp: 118.0000 - val_fp: 438.0000 - val_tn: 56743.0000 - val_fn: 3517.0000 - val_accuracy: 0.9350 - val_precision: 0.2122 - val_recall: 0.0325 - val_auc: 0.6980 - val_prc: 0.1372\n",
            "Epoch 3/20\n",
            "37/37 [==============================] - 1s 18ms/step - loss: 0.2664 - tp: 1506.0000 - fp: 1498.0000 - tn: 222263.0000 - fn: 20349.0000 - accuracy: 0.9111 - precision: 0.5013 - recall: 0.0689 - auc: 0.7518 - prc: 0.2654 - val_loss: 0.2256 - val_tp: 116.0000 - val_fp: 484.0000 - val_tn: 56697.0000 - val_fn: 3519.0000 - val_accuracy: 0.9342 - val_precision: 0.1933 - val_recall: 0.0319 - val_auc: 0.6955 - val_prc: 0.1288\n",
            "Epoch 4/20\n",
            "37/37 [==============================] - 1s 19ms/step - loss: 0.2612 - tp: 1801.0000 - fp: 1643.0000 - tn: 222118.0000 - fn: 20054.0000 - accuracy: 0.9117 - precision: 0.5229 - recall: 0.0824 - auc: 0.7647 - prc: 0.2832 - val_loss: 0.2287 - val_tp: 122.0000 - val_fp: 585.0000 - val_tn: 56596.0000 - val_fn: 3513.0000 - val_accuracy: 0.9326 - val_precision: 0.1726 - val_recall: 0.0336 - val_auc: 0.6920 - val_prc: 0.1260\n",
            "Epoch 5/20\n",
            "37/37 [==============================] - 1s 20ms/step - loss: 0.2553 - tp: 1953.0000 - fp: 1522.0000 - tn: 222239.0000 - fn: 19902.0000 - accuracy: 0.9128 - precision: 0.5620 - recall: 0.0894 - auc: 0.7791 - prc: 0.3073 - val_loss: 0.2336 - val_tp: 132.0000 - val_fp: 661.0000 - val_tn: 56520.0000 - val_fn: 3503.0000 - val_accuracy: 0.9315 - val_precision: 0.1665 - val_recall: 0.0363 - val_auc: 0.6897 - val_prc: 0.1219\n",
            "Epoch 6/20\n",
            "37/37 [==============================] - 1s 19ms/step - loss: 0.2510 - tp: 2088.0000 - fp: 1461.0000 - tn: 222300.0000 - fn: 19767.0000 - accuracy: 0.9136 - precision: 0.5883 - recall: 0.0955 - auc: 0.7892 - prc: 0.3233 - val_loss: 0.2383 - val_tp: 169.0000 - val_fp: 881.0000 - val_tn: 56300.0000 - val_fn: 3466.0000 - val_accuracy: 0.9285 - val_precision: 0.1610 - val_recall: 0.0465 - val_auc: 0.6857 - val_prc: 0.1200\n",
            "Epoch 7/20\n",
            "37/37 [==============================] - 1s 20ms/step - loss: 0.2482 - tp: 2236.0000 - fp: 1599.0000 - tn: 222162.0000 - fn: 19619.0000 - accuracy: 0.9136 - precision: 0.5831 - recall: 0.1023 - auc: 0.7961 - prc: 0.3317 - val_loss: 0.2423 - val_tp: 178.0000 - val_fp: 959.0000 - val_tn: 56222.0000 - val_fn: 3457.0000 - val_accuracy: 0.9274 - val_precision: 0.1566 - val_recall: 0.0490 - val_auc: 0.6758 - val_prc: 0.1167\n",
            "Epoch 8/20\n",
            "37/37 [==============================] - 1s 19ms/step - loss: 0.2447 - tp: 2471.0000 - fp: 1641.0000 - tn: 222120.0000 - fn: 19384.0000 - accuracy: 0.9144 - precision: 0.6009 - recall: 0.1131 - auc: 0.8047 - prc: 0.3443 - val_loss: 0.2457 - val_tp: 179.0000 - val_fp: 1070.0000 - val_tn: 56111.0000 - val_fn: 3456.0000 - val_accuracy: 0.9256 - val_precision: 0.1433 - val_recall: 0.0492 - val_auc: 0.6764 - val_prc: 0.1142\n",
            "Epoch 9/20\n",
            "37/37 [==============================] - 1s 19ms/step - loss: 0.2433 - tp: 2560.0000 - fp: 1714.0000 - tn: 222047.0000 - fn: 19295.0000 - accuracy: 0.9145 - precision: 0.5990 - recall: 0.1171 - auc: 0.8078 - prc: 0.3514 - val_loss: 0.2496 - val_tp: 182.0000 - val_fp: 1238.0000 - val_tn: 55943.0000 - val_fn: 3453.0000 - val_accuracy: 0.9229 - val_precision: 0.1282 - val_recall: 0.0501 - val_auc: 0.6741 - val_prc: 0.1105\n",
            "Epoch 10/20\n",
            "37/37 [==============================] - 1s 19ms/step - loss: 0.2403 - tp: 2627.0000 - fp: 1690.0000 - tn: 222071.0000 - fn: 19228.0000 - accuracy: 0.9148 - precision: 0.6085 - recall: 0.1202 - auc: 0.8154 - prc: 0.3593 - val_loss: 0.2518 - val_tp: 200.0000 - val_fp: 1300.0000 - val_tn: 55881.0000 - val_fn: 3435.0000 - val_accuracy: 0.9221 - val_precision: 0.1333 - val_recall: 0.0550 - val_auc: 0.6724 - val_prc: 0.1109\n",
            "Epoch 11/20\n",
            "37/37 [==============================] - 1s 20ms/step - loss: 0.2376 - tp: 2733.0000 - fp: 1708.0000 - tn: 222053.0000 - fn: 19122.0000 - accuracy: 0.9152 - precision: 0.6154 - recall: 0.1251 - auc: 0.8206 - prc: 0.3707 - val_loss: 0.2560 - val_tp: 208.0000 - val_fp: 1407.0000 - val_tn: 55774.0000 - val_fn: 3427.0000 - val_accuracy: 0.9205 - val_precision: 0.1288 - val_recall: 0.0572 - val_auc: 0.6712 - val_prc: 0.1092\n",
            "Epoch 12/20\n",
            "37/37 [==============================] - 1s 20ms/step - loss: 0.2364 - tp: 2934.0000 - fp: 1815.0000 - tn: 221946.0000 - fn: 18921.0000 - accuracy: 0.9156 - precision: 0.6178 - recall: 0.1342 - auc: 0.8241 - prc: 0.3736 - val_loss: 0.2538 - val_tp: 211.0000 - val_fp: 1369.0000 - val_tn: 55812.0000 - val_fn: 3424.0000 - val_accuracy: 0.9212 - val_precision: 0.1335 - val_recall: 0.0580 - val_auc: 0.6735 - val_prc: 0.1096\n",
            "Epoch 13/20\n",
            "37/37 [==============================] - 1s 19ms/step - loss: 0.2346 - tp: 2854.0000 - fp: 1757.0000 - tn: 222004.0000 - fn: 19001.0000 - accuracy: 0.9155 - precision: 0.6190 - recall: 0.1306 - auc: 0.8281 - prc: 0.3785 - val_loss: 0.2532 - val_tp: 188.0000 - val_fp: 1273.0000 - val_tn: 55908.0000 - val_fn: 3447.0000 - val_accuracy: 0.9224 - val_precision: 0.1287 - val_recall: 0.0517 - val_auc: 0.6710 - val_prc: 0.1087\n",
            "Epoch 14/20\n",
            "37/37 [==============================] - 1s 20ms/step - loss: 0.2326 - tp: 2946.0000 - fp: 1782.0000 - tn: 221979.0000 - fn: 18909.0000 - accuracy: 0.9158 - precision: 0.6231 - recall: 0.1348 - auc: 0.8318 - prc: 0.3887 - val_loss: 0.2618 - val_tp: 232.0000 - val_fp: 1579.0000 - val_tn: 55602.0000 - val_fn: 3403.0000 - val_accuracy: 0.9181 - val_precision: 0.1281 - val_recall: 0.0638 - val_auc: 0.6695 - val_prc: 0.1067\n",
            "Epoch 15/20\n",
            "37/37 [==============================] - 1s 20ms/step - loss: 0.2310 - tp: 3136.0000 - fp: 1850.0000 - tn: 221911.0000 - fn: 18719.0000 - accuracy: 0.9163 - precision: 0.6290 - recall: 0.1435 - auc: 0.8355 - prc: 0.3933 - val_loss: 0.2575 - val_tp: 207.0000 - val_fp: 1467.0000 - val_tn: 55714.0000 - val_fn: 3428.0000 - val_accuracy: 0.9195 - val_precision: 0.1237 - val_recall: 0.0569 - val_auc: 0.6663 - val_prc: 0.1059\n",
            "Epoch 16/20\n",
            "37/37 [==============================] - 1s 20ms/step - loss: 0.2292 - tp: 3180.0000 - fp: 1828.0000 - tn: 221933.0000 - fn: 18675.0000 - accuracy: 0.9165 - precision: 0.6350 - recall: 0.1455 - auc: 0.8389 - prc: 0.4006 - val_loss: 0.2569 - val_tp: 217.0000 - val_fp: 1482.0000 - val_tn: 55699.0000 - val_fn: 3418.0000 - val_accuracy: 0.9194 - val_precision: 0.1277 - val_recall: 0.0597 - val_auc: 0.6677 - val_prc: 0.1055\n",
            "Epoch 17/20\n",
            "37/37 [==============================] - 1s 20ms/step - loss: 0.2273 - tp: 3292.0000 - fp: 1885.0000 - tn: 221876.0000 - fn: 18563.0000 - accuracy: 0.9167 - precision: 0.6359 - recall: 0.1506 - auc: 0.8427 - prc: 0.4083 - val_loss: 0.2571 - val_tp: 219.0000 - val_fp: 1544.0000 - val_tn: 55637.0000 - val_fn: 3416.0000 - val_accuracy: 0.9184 - val_precision: 0.1242 - val_recall: 0.0602 - val_auc: 0.6690 - val_prc: 0.1074\n",
            "Epoch 18/20\n",
            "37/37 [==============================] - 1s 20ms/step - loss: 0.2256 - tp: 3368.0000 - fp: 1856.0000 - tn: 221905.0000 - fn: 18487.0000 - accuracy: 0.9172 - precision: 0.6447 - recall: 0.1541 - auc: 0.8464 - prc: 0.4134 - val_loss: 0.2620 - val_tp: 230.0000 - val_fp: 1682.0000 - val_tn: 55499.0000 - val_fn: 3405.0000 - val_accuracy: 0.9164 - val_precision: 0.1203 - val_recall: 0.0633 - val_auc: 0.6665 - val_prc: 0.1063\n",
            "Epoch 19/20\n",
            "37/37 [==============================] - 1s 20ms/step - loss: 0.2243 - tp: 3652.0000 - fp: 2033.0000 - tn: 221728.0000 - fn: 18203.0000 - accuracy: 0.9176 - precision: 0.6424 - recall: 0.1671 - auc: 0.8485 - prc: 0.4199 - val_loss: 0.2591 - val_tp: 230.0000 - val_fp: 1562.0000 - val_tn: 55619.0000 - val_fn: 3405.0000 - val_accuracy: 0.9183 - val_precision: 0.1283 - val_recall: 0.0633 - val_auc: 0.6652 - val_prc: 0.1052\n",
            "Epoch 20/20\n",
            "37/37 [==============================] - 1s 20ms/step - loss: 0.2224 - tp: 3601.0000 - fp: 1908.0000 - tn: 221853.0000 - fn: 18254.0000 - accuracy: 0.9179 - precision: 0.6537 - recall: 0.1648 - auc: 0.8523 - prc: 0.4268 - val_loss: 0.2602 - val_tp: 235.0000 - val_fp: 1617.0000 - val_tn: 55564.0000 - val_fn: 3400.0000 - val_accuracy: 0.9175 - val_precision: 0.1269 - val_recall: 0.0646 - val_auc: 0.6637 - val_prc: 0.1056\n",
            "CPU times: user 22.2 s, sys: 2.72 s, total: 25 s\n",
            "Wall time: 44.5 s\n"
          ]
        },
        {
          "data": {
            "image/png": "[encoded data removed]",
            "text/plain": [
              "<Figure size 576x576 with 4 Axes>"
            ]
          },
          "metadata": {
            "needs_background": "light"
          },
          "output_type": "display_data"
        }
      ]
    },
    {
      "cell_type": "code",
      "metadata": {
        "id": "VDI05V1W_ZmZ"
      },
      "source": [
        "pred_mlp2 = model.predict(npX2test[:,:,:])"
      ],
      "execution_count": null,
      "outputs": []
    },
    {
      "cell_type": "code",
      "metadata": {
        "colab": {
          "base_uri": "https://localhost:8080/"
        },
        "id": "vaS7s-sh_ZRm",
        "outputId": "6aa87cc0-c3eb-4a66-fa50-6929c11c6a32"
      },
      "source": [
        "accuracy_score(pd.Series(pred_mlp2.flatten()).map(convert), pd.Series(npYtest[:,].flatten()))"
      ],
      "execution_count": null,
      "outputs": [
        {
          "data": {
            "text/plain": [
              "0.9175052617732176"
            ]
          },
          "execution_count": 143,
          "metadata": {},
          "output_type": "execute_result"
        }
      ]
    },
    {
      "cell_type": "code",
      "metadata": {
        "colab": {
          "base_uri": "https://localhost:8080/"
        },
        "id": "DKN1QFWI_ZLA",
        "outputId": "c3b5496a-d0f3-44f5-dab4-e52e42c92c15"
      },
      "source": [
        "recall_score(pd.Series(pred_mlp2.flatten()).map(convert), pd.Series(npYtest[:,].flatten()))"
      ],
      "execution_count": null,
      "outputs": [
        {
          "data": {
            "text/plain": [
              "0.12688984881209503"
            ]
          },
          "execution_count": 144,
          "metadata": {},
          "output_type": "execute_result"
        }
      ]
    },
    {
      "cell_type": "code",
      "metadata": {
        "colab": {
          "base_uri": "https://localhost:8080/"
        },
        "id": "hUDkaP985yAs",
        "outputId": "1a70e037-a013-4376-afaf-d658d625635b"
      },
      "source": [
        "f1_score(pd.Series(pred_mlp2.flatten()).map(convert), pd.Series(npYtest[:,].flatten()))"
      ],
      "execution_count": null,
      "outputs": [
        {
          "data": {
            "text/plain": [
              "0.08565700747220706"
            ]
          },
          "execution_count": 145,
          "metadata": {},
          "output_type": "execute_result"
        }
      ]
    },
    {
      "cell_type": "code",
      "metadata": {
        "colab": {
          "base_uri": "https://localhost:8080/"
        },
        "id": "WxG4JepO419E",
        "outputId": "1ce0626a-d028-44c2-9b37-4dc2d518a8f8"
      },
      "source": [
        "f1_score(pd.Series(pred_mlp2.flatten()).map(convert), pd.Series(npYtest[:,:].flatten()))"
      ],
      "execution_count": null,
      "outputs": [
        {
          "data": {
            "text/plain": [
              "0.08565700747220706"
            ]
          },
          "execution_count": 146,
          "metadata": {},
          "output_type": "execute_result"
        }
      ]
    },
    {
      "cell_type": "code",
      "metadata": {
        "colab": {
          "base_uri": "https://localhost:8080/"
        },
        "id": "HUiAx6jMmHU-",
        "outputId": "e95963e1-54b7-4b0f-97f0-5bc3f89a93be"
      },
      "source": [
        "results = {}\n",
        "pred_mlp2 = model.predict(npX2test[:,:,:])\n",
        "for k, b in enumerate(pred_mlp2.T):\n",
        "  results[bairros[k]] = {}\n",
        "  results[bairros[k]]['acuracia'] = accuracy_score(npYtest[:,k], pd.Series(pred_mlp2[:,k].flatten()).map(convert))\n",
        "  results[bairros[k]]['precisao'] = precision_score(npYtest[:,k], pd.Series(pred_mlp2[:,k].flatten()).map(convert))\n",
        "  results[bairros[k]]['cobertura'] = recall_score(npYtest[:,k], pd.Series(pred_mlp2[:,k].flatten()).map(convert))\n",
        "  results[bairros[k]]['f1'] = f1_score(npYtest[:,k], pd.Series(pred_mlp2[:,k].flatten()).map(convert))\n",
        "\n",
        "resultado = pd.DataFrame(results).T\n",
        "\n",
        "\n",
        "with pd.ExcelWriter(path,mode='a') as writer:\n",
        "    resultado.to_excel(writer, sheet_name='cnn')"
      ],
      "execution_count": null,
      "outputs": [
        {
          "name": "stderr",
          "output_type": "stream",
          "text": [
            "/usr/local/lib/python3.7/dist-packages/sklearn/metrics/_classification.py:1272: UndefinedMetricWarning: Precision is ill-defined and being set to 0.0 due to no predicted samples. Use `zero_division` parameter to control this behavior.\n",
            "  _warn_prf(average, modifier, msg_start, len(result))\n",
            "/usr/local/lib/python3.7/dist-packages/sklearn/metrics/_classification.py:1272: UndefinedMetricWarning: Recall is ill-defined and being set to 0.0 due to no true samples. Use `zero_division` parameter to control this behavior.\n",
            "  _warn_prf(average, modifier, msg_start, len(result))\n",
            "/usr/local/lib/python3.7/dist-packages/sklearn/metrics/_classification.py:1515: UndefinedMetricWarning: F-score is ill-defined and being set to 0.0 due to no true nor predicted samples. Use `zero_division` parameter to control this behavior.\n",
            "  average, \"true nor predicted\", 'F-score is', len(true_sum)\n"
          ]
        }
      ]
    },
    {
      "cell_type": "markdown",
      "metadata": {
        "id": "0dImq6xsmctW"
      },
      "source": [
        "## CNN +  LSTM"
      ]
    },
    {
      "cell_type": "code",
      "metadata": {
        "colab": {
          "base_uri": "https://localhost:8080/"
        },
        "id": "Y4N7IMkkl2gs",
        "outputId": "ef248570-ca61-4ac6-f0dc-685d12e04ebb"
      },
      "source": [
        "CONV_WIDTH = 4\n",
        "\n",
        "model = keras.Sequential([\n",
        "    keras.Input(shape=(npX4.shape[1], npX4.shape[2], npX4.shape[3])),\n",
        "    #layers.Conv1D(filters=32, kernel_size=(CONV_WIDTH,), activation='relu'),\n",
        "    #layers.GRU(512),\n",
        "    layers.ConvLSTM1D(filters=64, kernel_size=(CONV_WIDTH,), activation='relu'),\n",
        "    layers.MaxPooling1D(pool_size=2, strides=1, padding='valid'),\n",
        "    layers.Dropout(0.5),\n",
        "    layers.Dense(128, activation='relu'),\n",
        "    layers.Dropout(0.5),\n",
        "    #layers.Dense(512, activation='relu'),\n",
        "    #layers.Dense(512, activation='relu'),\n",
        "    #layers.Dense(npY.shape[1], activation='softmax'),\n",
        "    layers.Flatten(),\n",
        "    layers.Dense(npY.shape[1], activation='sigmoid'),\n",
        "])\n",
        "\n",
        "model.summary()"
      ],
      "execution_count": null,
      "outputs": [
        {
          "name": "stdout",
          "output_type": "stream",
          "text": [
            "Model: \"sequential_5\"\n",
            "_________________________________________________________________\n",
            "Layer (type)                 Output Shape              Param #   \n",
            "=================================================================\n",
            "conv_lst_m1d (ConvLSTM1D)    (None, 8, 64)             129280    \n",
            "_________________________________________________________________\n",
            "max_pooling1d (MaxPooling1D) (None, 7, 64)             0         \n",
            "_________________________________________________________________\n",
            "dropout_10 (Dropout)         (None, 7, 64)             0         \n",
            "_________________________________________________________________\n",
            "dense_13 (Dense)             (None, 7, 128)            8320      \n",
            "_________________________________________________________________\n",
            "dropout_11 (Dropout)         (None, 7, 128)            0         \n",
            "_________________________________________________________________\n",
            "flatten_5 (Flatten)          (None, 896)               0         \n",
            "_________________________________________________________________\n",
            "dense_14 (Dense)             (None, 28)                25116     \n",
            "=================================================================\n",
            "Total params: 162,716\n",
            "Trainable params: 162,716\n",
            "Non-trainable params: 0\n",
            "_________________________________________________________________\n"
          ]
        }
      ]
    },
    {
      "cell_type": "code",
      "metadata": {
        "colab": {
          "base_uri": "https://localhost:8080/",
          "height": 1000
        },
        "id": "TJtNundbSR95",
        "outputId": "e2f16fa5-92f0-47d2-db30-107547186bbc"
      },
      "source": [
        "callback = tf.keras.callbacks.EarlyStopping(monitor='loss', patience=3)\n",
        "\n",
        "model.compile(\n",
        "    #loss=keras.losses.MeanAbsoluteError(),\n",
        "    loss=keras.losses.BinaryCrossentropy(from_logits=False),\n",
        "    optimizer=get_optimizer(), \n",
        "    #optimizer=keras.optimizers.Adam(learning_rate=1e-3),\n",
        "    metrics=[METRICS],\n",
        ")\n",
        "\n",
        "\n",
        "history_cnnlstm = model.fit(\n",
        "    npX4, npY[:,:], validation_data=(npX4test, npYtest[:,:]), batch_size=BATCH_SIZE, epochs=20, callbacks=get_callbacks('LSTM')\n",
        ")\n",
        " \n",
        "plot_metrics(history_cnnlstm)"
      ],
      "execution_count": null,
      "outputs": [
        {
          "name": "stdout",
          "output_type": "stream",
          "text": [
            "Epoch 1/20\n",
            "37/37 [==============================] - 16s 282ms/step - loss: 0.3363 - tp: 1736.0000 - fp: 9953.0000 - tn: 270989.0000 - fn: 23754.0000 - accuracy: 0.8900 - precision: 0.1485 - recall: 0.0681 - auc: 0.6492 - prc: 0.1287 - val_loss: 0.2162 - val_tp: 0.0000e+00 - val_fp: 1.0000 - val_tn: 57180.0000 - val_fn: 3635.0000 - val_accuracy: 0.9402 - val_precision: 0.0000e+00 - val_recall: 0.0000e+00 - val_auc: 0.7276 - val_prc: 0.1573\n",
            "Epoch 2/20\n",
            "37/37 [==============================] - 7s 188ms/step - loss: 0.2721 - tp: 414.0000 - fp: 552.0000 - tn: 223209.0000 - fn: 21441.0000 - accuracy: 0.9105 - precision: 0.4286 - recall: 0.0189 - auc: 0.7318 - prc: 0.2253 - val_loss: 0.2160 - val_tp: 0.0000e+00 - val_fp: 0.0000e+00 - val_tn: 57181.0000 - val_fn: 3635.0000 - val_accuracy: 0.9402 - val_precision: 0.0000e+00 - val_recall: 0.0000e+00 - val_auc: 0.7227 - val_prc: 0.1542\n",
            "Epoch 3/20\n",
            "37/37 [==============================] - 7s 190ms/step - loss: 0.2673 - tp: 332.0000 - fp: 428.0000 - tn: 223333.0000 - fn: 21523.0000 - accuracy: 0.9106 - precision: 0.4368 - recall: 0.0152 - auc: 0.7460 - prc: 0.2391 - val_loss: 0.2184 - val_tp: 1.0000 - val_fp: 6.0000 - val_tn: 57175.0000 - val_fn: 3634.0000 - val_accuracy: 0.9401 - val_precision: 0.1429 - val_recall: 2.7510e-04 - val_auc: 0.7199 - val_prc: 0.1503\n",
            "Epoch 4/20\n",
            "37/37 [==============================] - 7s 183ms/step - loss: 0.2635 - tp: 403.0000 - fp: 471.0000 - tn: 223290.0000 - fn: 21452.0000 - accuracy: 0.9107 - precision: 0.4611 - recall: 0.0184 - auc: 0.7578 - prc: 0.2532 - val_loss: 0.2225 - val_tp: 4.0000 - val_fp: 38.0000 - val_tn: 57143.0000 - val_fn: 3631.0000 - val_accuracy: 0.9397 - val_precision: 0.0952 - val_recall: 0.0011 - val_auc: 0.7196 - val_prc: 0.1501\n",
            "Epoch 5/20\n",
            "37/37 [==============================] - 6s 164ms/step - loss: 0.2604 - tp: 439.0000 - fp: 437.0000 - tn: 223324.0000 - fn: 21416.0000 - accuracy: 0.9110 - precision: 0.5011 - recall: 0.0201 - auc: 0.7665 - prc: 0.2662 - val_loss: 0.2239 - val_tp: 2.0000 - val_fp: 26.0000 - val_tn: 57155.0000 - val_fn: 3633.0000 - val_accuracy: 0.9398 - val_precision: 0.0714 - val_recall: 5.5021e-04 - val_auc: 0.7118 - val_prc: 0.1453\n",
            "Epoch 6/20\n",
            "37/37 [==============================] - 6s 168ms/step - loss: 0.2593 - tp: 468.0000 - fp: 429.0000 - tn: 223332.0000 - fn: 21387.0000 - accuracy: 0.9112 - precision: 0.5217 - recall: 0.0214 - auc: 0.7702 - prc: 0.2720 - val_loss: 0.2244 - val_tp: 39.0000 - val_fp: 217.0000 - val_tn: 56964.0000 - val_fn: 3596.0000 - val_accuracy: 0.9373 - val_precision: 0.1523 - val_recall: 0.0107 - val_auc: 0.7141 - val_prc: 0.1464\n",
            "Epoch 7/20\n",
            "37/37 [==============================] - 6s 166ms/step - loss: 0.2568 - tp: 541.0000 - fp: 471.0000 - tn: 223290.0000 - fn: 21314.0000 - accuracy: 0.9113 - precision: 0.5346 - recall: 0.0248 - auc: 0.7770 - prc: 0.2804 - val_loss: 0.2294 - val_tp: 34.0000 - val_fp: 206.0000 - val_tn: 56975.0000 - val_fn: 3601.0000 - val_accuracy: 0.9374 - val_precision: 0.1417 - val_recall: 0.0094 - val_auc: 0.7038 - val_prc: 0.1406\n",
            "Epoch 8/20\n",
            "37/37 [==============================] - 6s 166ms/step - loss: 0.2552 - tp: 532.0000 - fp: 406.0000 - tn: 223355.0000 - fn: 21323.0000 - accuracy: 0.9115 - precision: 0.5672 - recall: 0.0243 - auc: 0.7809 - prc: 0.2904 - val_loss: 0.2330 - val_tp: 134.0000 - val_fp: 508.0000 - val_tn: 56673.0000 - val_fn: 3501.0000 - val_accuracy: 0.9341 - val_precision: 0.2087 - val_recall: 0.0369 - val_auc: 0.7066 - val_prc: 0.1431\n",
            "Epoch 9/20\n",
            "37/37 [==============================] - 7s 178ms/step - loss: 0.2535 - tp: 701.0000 - fp: 469.0000 - tn: 223292.0000 - fn: 21154.0000 - accuracy: 0.9120 - precision: 0.5991 - recall: 0.0321 - auc: 0.7852 - prc: 0.2985 - val_loss: 0.2345 - val_tp: 104.0000 - val_fp: 423.0000 - val_tn: 56758.0000 - val_fn: 3531.0000 - val_accuracy: 0.9350 - val_precision: 0.1973 - val_recall: 0.0286 - val_auc: 0.7012 - val_prc: 0.1388\n",
            "Epoch 10/20\n",
            "37/37 [==============================] - 6s 175ms/step - loss: 0.2526 - tp: 831.0000 - fp: 527.0000 - tn: 223234.0000 - fn: 21024.0000 - accuracy: 0.9123 - precision: 0.6119 - recall: 0.0380 - auc: 0.7878 - prc: 0.3010 - val_loss: 0.2372 - val_tp: 110.0000 - val_fp: 428.0000 - val_tn: 56753.0000 - val_fn: 3525.0000 - val_accuracy: 0.9350 - val_precision: 0.2045 - val_recall: 0.0303 - val_auc: 0.6995 - val_prc: 0.1352\n",
            "Epoch 11/20\n",
            "37/37 [==============================] - 6s 167ms/step - loss: 0.2511 - tp: 882.0000 - fp: 558.0000 - tn: 223203.0000 - fn: 20973.0000 - accuracy: 0.9123 - precision: 0.6125 - recall: 0.0404 - auc: 0.7914 - prc: 0.3089 - val_loss: 0.2315 - val_tp: 102.0000 - val_fp: 417.0000 - val_tn: 56764.0000 - val_fn: 3533.0000 - val_accuracy: 0.9351 - val_precision: 0.1965 - val_recall: 0.0281 - val_auc: 0.6975 - val_prc: 0.1342\n",
            "Epoch 12/20\n",
            "37/37 [==============================] - 6s 170ms/step - loss: 0.2503 - tp: 942.0000 - fp: 538.0000 - tn: 223223.0000 - fn: 20913.0000 - accuracy: 0.9127 - precision: 0.6365 - recall: 0.0431 - auc: 0.7930 - prc: 0.3147 - val_loss: 0.2350 - val_tp: 151.0000 - val_fp: 546.0000 - val_tn: 56635.0000 - val_fn: 3484.0000 - val_accuracy: 0.9337 - val_precision: 0.2166 - val_recall: 0.0415 - val_auc: 0.6953 - val_prc: 0.1338\n",
            "Epoch 13/20\n",
            "37/37 [==============================] - 6s 168ms/step - loss: 0.2491 - tp: 1084.0000 - fp: 636.0000 - tn: 223125.0000 - fn: 20771.0000 - accuracy: 0.9128 - precision: 0.6302 - recall: 0.0496 - auc: 0.7965 - prc: 0.3171 - val_loss: 0.2378 - val_tp: 160.0000 - val_fp: 570.0000 - val_tn: 56611.0000 - val_fn: 3475.0000 - val_accuracy: 0.9335 - val_precision: 0.2192 - val_recall: 0.0440 - val_auc: 0.6987 - val_prc: 0.1340\n",
            "Epoch 14/20\n",
            "37/37 [==============================] - 6s 171ms/step - loss: 0.2481 - tp: 1175.0000 - fp: 611.0000 - tn: 223150.0000 - fn: 20680.0000 - accuracy: 0.9133 - precision: 0.6579 - recall: 0.0538 - auc: 0.7982 - prc: 0.3230 - val_loss: 0.2437 - val_tp: 190.0000 - val_fp: 640.0000 - val_tn: 56541.0000 - val_fn: 3445.0000 - val_accuracy: 0.9328 - val_precision: 0.2289 - val_recall: 0.0523 - val_auc: 0.6920 - val_prc: 0.1303\n",
            "Epoch 15/20\n",
            "37/37 [==============================] - 6s 168ms/step - loss: 0.2474 - tp: 1322.0000 - fp: 728.0000 - tn: 223033.0000 - fn: 20533.0000 - accuracy: 0.9134 - precision: 0.6449 - recall: 0.0605 - auc: 0.7996 - prc: 0.3275 - val_loss: 0.2453 - val_tp: 172.0000 - val_fp: 668.0000 - val_tn: 56513.0000 - val_fn: 3463.0000 - val_accuracy: 0.9321 - val_precision: 0.2048 - val_recall: 0.0473 - val_auc: 0.6922 - val_prc: 0.1276\n",
            "Epoch 16/20\n",
            "37/37 [==============================] - 6s 168ms/step - loss: 0.2462 - tp: 1304.0000 - fp: 698.0000 - tn: 223063.0000 - fn: 20551.0000 - accuracy: 0.9135 - precision: 0.6513 - recall: 0.0597 - auc: 0.8022 - prc: 0.3317 - val_loss: 0.2407 - val_tp: 131.0000 - val_fp: 570.0000 - val_tn: 56611.0000 - val_fn: 3504.0000 - val_accuracy: 0.9330 - val_precision: 0.1869 - val_recall: 0.0360 - val_auc: 0.6859 - val_prc: 0.1230\n",
            "Epoch 17/20\n",
            "37/37 [==============================] - 6s 170ms/step - loss: 0.2456 - tp: 1351.0000 - fp: 747.0000 - tn: 223014.0000 - fn: 20504.0000 - accuracy: 0.9135 - precision: 0.6439 - recall: 0.0618 - auc: 0.8043 - prc: 0.3330 - val_loss: 0.2508 - val_tp: 204.0000 - val_fp: 836.0000 - val_tn: 56345.0000 - val_fn: 3431.0000 - val_accuracy: 0.9298 - val_precision: 0.1962 - val_recall: 0.0561 - val_auc: 0.6928 - val_prc: 0.1261\n",
            "Epoch 18/20\n",
            "37/37 [==============================] - 6s 168ms/step - loss: 0.2443 - tp: 1456.0000 - fp: 792.0000 - tn: 222969.0000 - fn: 20399.0000 - accuracy: 0.9137 - precision: 0.6477 - recall: 0.0666 - auc: 0.8066 - prc: 0.3389 - val_loss: 0.2506 - val_tp: 207.0000 - val_fp: 816.0000 - val_tn: 56365.0000 - val_fn: 3428.0000 - val_accuracy: 0.9302 - val_precision: 0.2023 - val_recall: 0.0569 - val_auc: 0.6888 - val_prc: 0.1253\n",
            "Epoch 19/20\n",
            "37/37 [==============================] - 6s 170ms/step - loss: 0.2437 - tp: 1520.0000 - fp: 801.0000 - tn: 222960.0000 - fn: 20335.0000 - accuracy: 0.9139 - precision: 0.6549 - recall: 0.0695 - auc: 0.8084 - prc: 0.3418 - val_loss: 0.2512 - val_tp: 227.0000 - val_fp: 956.0000 - val_tn: 56225.0000 - val_fn: 3408.0000 - val_accuracy: 0.9282 - val_precision: 0.1919 - val_recall: 0.0624 - val_auc: 0.6900 - val_prc: 0.1244\n"
          ]
        },
        {
          "data": {
            "image/png": "[encoded data removed]",
            "text/plain": [
              "<Figure size 576x576 with 4 Axes>"
            ]
          },
          "metadata": {
            "needs_background": "light"
          },
          "output_type": "display_data"
        }
      ]
    },
    {
      "cell_type": "code",
      "metadata": {
        "id": "azw8Q1q7_IAk"
      },
      "source": [
        "pred_mlp4 = model.predict(npX4test[:,:,:])"
      ],
      "execution_count": null,
      "outputs": []
    },
    {
      "cell_type": "code",
      "metadata": {
        "colab": {
          "base_uri": "https://localhost:8080/"
        },
        "id": "Ul1w73hI5xZl",
        "outputId": "b3312b59-d5de-48a1-894f-bf924c50f7b5"
      },
      "source": [
        "accuracy_score(pd.Series(pred_mlp4.flatten()).map(convert), pd.Series(npYtest[:,:].flatten()))"
      ],
      "execution_count": null,
      "outputs": [
        {
          "data": {
            "text/plain": [
              "0.9282425677453302"
            ]
          },
          "execution_count": 151,
          "metadata": {},
          "output_type": "execute_result"
        }
      ]
    },
    {
      "cell_type": "code",
      "metadata": {
        "colab": {
          "base_uri": "https://localhost:8080/"
        },
        "id": "_jSnKGzW403g",
        "outputId": "a0dc521f-b45d-4812-9a83-8087ff308e62"
      },
      "source": [
        "precision_score(pd.Series(pred_mlp4.flatten()).map(convert), pd.Series(npYtest[:,:].flatten()))"
      ],
      "execution_count": null,
      "outputs": [
        {
          "data": {
            "text/plain": [
              "0.0624484181568088"
            ]
          },
          "execution_count": 152,
          "metadata": {},
          "output_type": "execute_result"
        }
      ]
    },
    {
      "cell_type": "code",
      "metadata": {
        "colab": {
          "base_uri": "https://localhost:8080/"
        },
        "id": "L94oWsmZ41g1",
        "outputId": "a257e18b-ee43-43fa-99f9-bb524af35be6"
      },
      "source": [
        "recall_score(pd.Series(pred_mlp4.flatten()).map(convert), pd.Series(npYtest[:,:].flatten()))"
      ],
      "execution_count": null,
      "outputs": [
        {
          "data": {
            "text/plain": [
              "0.19188503803888418"
            ]
          },
          "execution_count": 153,
          "metadata": {},
          "output_type": "execute_result"
        }
      ]
    },
    {
      "cell_type": "code",
      "metadata": {
        "colab": {
          "base_uri": "https://localhost:8080/"
        },
        "id": "WwXYhjnff-Mt",
        "outputId": "eebe0349-873e-4459-8dfc-8402a37158ce"
      },
      "source": [
        "f1_score(pd.Series(pred_mlp4.flatten()).map(convert), pd.Series(npYtest[:,].flatten()))"
      ],
      "execution_count": null,
      "outputs": [
        {
          "data": {
            "text/plain": [
              "0.0942299709422997"
            ]
          },
          "execution_count": 154,
          "metadata": {},
          "output_type": "execute_result"
        }
      ]
    },
    {
      "cell_type": "code",
      "metadata": {
        "colab": {
          "base_uri": "https://localhost:8080/"
        },
        "id": "Ua3ycFms_OEe",
        "outputId": "e8163237-eeb0-4b8a-8caa-9f4205175961"
      },
      "source": [
        "results = {}\n",
        "pred_mlp4 = model.predict(npX4test[:,:,:])\n",
        "for k, b in enumerate(pred_mlp2.T):\n",
        "  results[bairros[k]] = {}\n",
        "  results[bairros[k]]['acuracia'] = accuracy_score(npYtest[:,k], pd.Series(pred_mlp4[:,k].flatten()).map(convert))\n",
        "  results[bairros[k]]['precisao'] = precision_score(npYtest[:,k], pd.Series(pred_mlp4[:,k].flatten()).map(convert))\n",
        "  results[bairros[k]]['cobertura'] = recall_score(npYtest[:,k], pd.Series(pred_mlp4[:,k].flatten()).map(convert))\n",
        "  results[bairros[k]]['f1'] = f1_score(npYtest[:,k], pd.Series(pred_mlp4[:,k].flatten()).map(convert))\n",
        "\n",
        "resultado = pd.DataFrame(results).T\n",
        "\n",
        "\n",
        "with pd.ExcelWriter(path,mode='a') as writer:\n",
        "    resultado.to_excel(writer, sheet_name='cnnlstm')"
      ],
      "execution_count": null,
      "outputs": [
        {
          "name": "stderr",
          "output_type": "stream",
          "text": [
            "/usr/local/lib/python3.7/dist-packages/sklearn/metrics/_classification.py:1272: UndefinedMetricWarning: Precision is ill-defined and being set to 0.0 due to no predicted samples. Use `zero_division` parameter to control this behavior.\n",
            "  _warn_prf(average, modifier, msg_start, len(result))\n",
            "/usr/local/lib/python3.7/dist-packages/sklearn/metrics/_classification.py:1272: UndefinedMetricWarning: Recall is ill-defined and being set to 0.0 due to no true samples. Use `zero_division` parameter to control this behavior.\n",
            "  _warn_prf(average, modifier, msg_start, len(result))\n",
            "/usr/local/lib/python3.7/dist-packages/sklearn/metrics/_classification.py:1515: UndefinedMetricWarning: F-score is ill-defined and being set to 0.0 due to no true nor predicted samples. Use `zero_division` parameter to control this behavior.\n",
            "  average, \"true nor predicted\", 'F-score is', len(true_sum)\n"
          ]
        }
      ]
    },
    {
      "cell_type": "code",
      "metadata": {
        "colab": {
          "base_uri": "https://localhost:8080/",
          "height": 895
        },
        "id": "wtBsSkVrCYUS",
        "outputId": "144f9d36-fdcc-4fdb-8832-20674aa1ec19"
      },
      "source": [
        "resultado"
      ],
      "execution_count": null,
      "outputs": [
        {
          "data": {
            "text/html": [
              "<div>\n",
              "<style scoped>\n",
              "    .dataframe tbody tr th:only-of-type {\n",
              "        vertical-align: middle;\n",
              "    }\n",
              "\n",
              "    .dataframe tbody tr th {\n",
              "        vertical-align: top;\n",
              "    }\n",
              "\n",
              "    .dataframe thead th {\n",
              "        text-align: right;\n",
              "    }\n",
              "</style>\n",
              "<table border=\"1\" class=\"dataframe\">\n",
              "  <thead>\n",
              "    <tr style=\"text-align: right;\">\n",
              "      <th></th>\n",
              "      <th>acuracia</th>\n",
              "      <th>precisao</th>\n",
              "      <th>cobertura</th>\n",
              "      <th>f1</th>\n",
              "    </tr>\n",
              "  </thead>\n",
              "  <tbody>\n",
              "    <tr>\n",
              "      <th>AREIAS</th>\n",
              "      <td>0.976059</td>\n",
              "      <td>0.000000</td>\n",
              "      <td>0.000000</td>\n",
              "      <td>0.000000</td>\n",
              "    </tr>\n",
              "    <tr>\n",
              "      <th>BEBERIBE</th>\n",
              "      <td>0.974678</td>\n",
              "      <td>0.000000</td>\n",
              "      <td>0.000000</td>\n",
              "      <td>0.000000</td>\n",
              "    </tr>\n",
              "    <tr>\n",
              "      <th>BOA VIAGEM</th>\n",
              "      <td>0.515193</td>\n",
              "      <td>0.239306</td>\n",
              "      <td>0.343854</td>\n",
              "      <td>0.282209</td>\n",
              "    </tr>\n",
              "    <tr>\n",
              "      <th>BOA VISTA</th>\n",
              "      <td>0.873389</td>\n",
              "      <td>0.074468</td>\n",
              "      <td>0.035897</td>\n",
              "      <td>0.048443</td>\n",
              "    </tr>\n",
              "    <tr>\n",
              "      <th>CABANGA</th>\n",
              "      <td>0.959024</td>\n",
              "      <td>0.000000</td>\n",
              "      <td>0.000000</td>\n",
              "      <td>0.000000</td>\n",
              "    </tr>\n",
              "    <tr>\n",
              "      <th>CASA AMARELA</th>\n",
              "      <td>0.897330</td>\n",
              "      <td>0.000000</td>\n",
              "      <td>0.000000</td>\n",
              "      <td>0.000000</td>\n",
              "    </tr>\n",
              "    <tr>\n",
              "      <th>CASA FORTE</th>\n",
              "      <td>0.930939</td>\n",
              "      <td>0.000000</td>\n",
              "      <td>0.000000</td>\n",
              "      <td>0.000000</td>\n",
              "    </tr>\n",
              "    <tr>\n",
              "      <th>CAÇOTE</th>\n",
              "      <td>1.000000</td>\n",
              "      <td>0.000000</td>\n",
              "      <td>0.000000</td>\n",
              "      <td>0.000000</td>\n",
              "    </tr>\n",
              "    <tr>\n",
              "      <th>CURADO</th>\n",
              "      <td>0.994475</td>\n",
              "      <td>0.000000</td>\n",
              "      <td>0.000000</td>\n",
              "      <td>0.000000</td>\n",
              "    </tr>\n",
              "    <tr>\n",
              "      <th>DERBY</th>\n",
              "      <td>0.955801</td>\n",
              "      <td>0.000000</td>\n",
              "      <td>0.000000</td>\n",
              "      <td>0.000000</td>\n",
              "    </tr>\n",
              "    <tr>\n",
              "      <th>ESTÂNCIA</th>\n",
              "      <td>0.977901</td>\n",
              "      <td>0.000000</td>\n",
              "      <td>0.000000</td>\n",
              "      <td>0.000000</td>\n",
              "    </tr>\n",
              "    <tr>\n",
              "      <th>GRAÇAS</th>\n",
              "      <td>0.955801</td>\n",
              "      <td>0.000000</td>\n",
              "      <td>0.000000</td>\n",
              "      <td>0.000000</td>\n",
              "    </tr>\n",
              "    <tr>\n",
              "      <th>IMBIRIBEIRA</th>\n",
              "      <td>0.757827</td>\n",
              "      <td>0.056872</td>\n",
              "      <td>0.035398</td>\n",
              "      <td>0.043636</td>\n",
              "    </tr>\n",
              "    <tr>\n",
              "      <th>IPUTINGA</th>\n",
              "      <td>0.930018</td>\n",
              "      <td>0.000000</td>\n",
              "      <td>0.000000</td>\n",
              "      <td>0.000000</td>\n",
              "    </tr>\n",
              "    <tr>\n",
              "      <th>JIQUIÁ</th>\n",
              "      <td>0.994475</td>\n",
              "      <td>0.000000</td>\n",
              "      <td>0.000000</td>\n",
              "      <td>0.000000</td>\n",
              "    </tr>\n",
              "    <tr>\n",
              "      <th>MACAXEIRA</th>\n",
              "      <td>0.966851</td>\n",
              "      <td>0.000000</td>\n",
              "      <td>0.000000</td>\n",
              "      <td>0.000000</td>\n",
              "    </tr>\n",
              "    <tr>\n",
              "      <th>MADALENA</th>\n",
              "      <td>0.893186</td>\n",
              "      <td>0.076923</td>\n",
              "      <td>0.004525</td>\n",
              "      <td>0.008547</td>\n",
              "    </tr>\n",
              "    <tr>\n",
              "      <th>PAISSANDU</th>\n",
              "      <td>0.977901</td>\n",
              "      <td>0.000000</td>\n",
              "      <td>0.000000</td>\n",
              "      <td>0.000000</td>\n",
              "    </tr>\n",
              "    <tr>\n",
              "      <th>PINA</th>\n",
              "      <td>0.931400</td>\n",
              "      <td>0.000000</td>\n",
              "      <td>0.000000</td>\n",
              "      <td>0.000000</td>\n",
              "    </tr>\n",
              "    <tr>\n",
              "      <th>PRADO</th>\n",
              "      <td>0.983425</td>\n",
              "      <td>0.000000</td>\n",
              "      <td>0.000000</td>\n",
              "      <td>0.000000</td>\n",
              "    </tr>\n",
              "    <tr>\n",
              "      <th>BAIRRO DO RECIFE</th>\n",
              "      <td>0.968232</td>\n",
              "      <td>0.000000</td>\n",
              "      <td>0.000000</td>\n",
              "      <td>0.000000</td>\n",
              "    </tr>\n",
              "    <tr>\n",
              "      <th>SANTO AMARO</th>\n",
              "      <td>0.837937</td>\n",
              "      <td>0.000000</td>\n",
              "      <td>0.000000</td>\n",
              "      <td>0.000000</td>\n",
              "    </tr>\n",
              "    <tr>\n",
              "      <th>SÃO JOSÉ</th>\n",
              "      <td>0.888122</td>\n",
              "      <td>0.000000</td>\n",
              "      <td>0.000000</td>\n",
              "      <td>0.000000</td>\n",
              "    </tr>\n",
              "    <tr>\n",
              "      <th>TAMARINEIRA</th>\n",
              "      <td>0.969153</td>\n",
              "      <td>0.000000</td>\n",
              "      <td>0.000000</td>\n",
              "      <td>0.000000</td>\n",
              "    </tr>\n",
              "    <tr>\n",
              "      <th>TEJIPIÓ</th>\n",
              "      <td>0.966851</td>\n",
              "      <td>0.000000</td>\n",
              "      <td>0.000000</td>\n",
              "      <td>0.000000</td>\n",
              "    </tr>\n",
              "    <tr>\n",
              "      <th>TORRÕES</th>\n",
              "      <td>0.976059</td>\n",
              "      <td>0.000000</td>\n",
              "      <td>0.000000</td>\n",
              "      <td>0.000000</td>\n",
              "    </tr>\n",
              "    <tr>\n",
              "      <th>VÁRZEA</th>\n",
              "      <td>0.955341</td>\n",
              "      <td>0.000000</td>\n",
              "      <td>0.000000</td>\n",
              "      <td>0.000000</td>\n",
              "    </tr>\n",
              "    <tr>\n",
              "      <th>VASCO DA GAMA</th>\n",
              "      <td>0.983425</td>\n",
              "      <td>0.000000</td>\n",
              "      <td>0.000000</td>\n",
              "      <td>0.000000</td>\n",
              "    </tr>\n",
              "  </tbody>\n",
              "</table>\n",
              "</div>"
            ],
            "text/plain": [
              "                  acuracia  precisao  cobertura        f1\n",
              "AREIAS            0.976059  0.000000   0.000000  0.000000\n",
              "BEBERIBE          0.974678  0.000000   0.000000  0.000000\n",
              "BOA VIAGEM        0.515193  0.239306   0.343854  0.282209\n",
              "BOA VISTA         0.873389  0.074468   0.035897  0.048443\n",
              "CABANGA           0.959024  0.000000   0.000000  0.000000\n",
              "CASA AMARELA      0.897330  0.000000   0.000000  0.000000\n",
              "CASA FORTE        0.930939  0.000000   0.000000  0.000000\n",
              "CAÇOTE            1.000000  0.000000   0.000000  0.000000\n",
              "CURADO            0.994475  0.000000   0.000000  0.000000\n",
              "DERBY             0.955801  0.000000   0.000000  0.000000\n",
              "ESTÂNCIA          0.977901  0.000000   0.000000  0.000000\n",
              "GRAÇAS            0.955801  0.000000   0.000000  0.000000\n",
              "IMBIRIBEIRA       0.757827  0.056872   0.035398  0.043636\n",
              "IPUTINGA          0.930018  0.000000   0.000000  0.000000\n",
              "JIQUIÁ            0.994475  0.000000   0.000000  0.000000\n",
              "MACAXEIRA         0.966851  0.000000   0.000000  0.000000\n",
              "MADALENA          0.893186  0.076923   0.004525  0.008547\n",
              "PAISSANDU         0.977901  0.000000   0.000000  0.000000\n",
              "PINA              0.931400  0.000000   0.000000  0.000000\n",
              "PRADO             0.983425  0.000000   0.000000  0.000000\n",
              "BAIRRO DO RECIFE  0.968232  0.000000   0.000000  0.000000\n",
              "SANTO AMARO       0.837937  0.000000   0.000000  0.000000\n",
              "SÃO JOSÉ          0.888122  0.000000   0.000000  0.000000\n",
              "TAMARINEIRA       0.969153  0.000000   0.000000  0.000000\n",
              "TEJIPIÓ           0.966851  0.000000   0.000000  0.000000\n",
              "TORRÕES           0.976059  0.000000   0.000000  0.000000\n",
              "VÁRZEA            0.955341  0.000000   0.000000  0.000000\n",
              "VASCO DA GAMA     0.983425  0.000000   0.000000  0.000000"
            ]
          },
          "execution_count": 158,
          "metadata": {},
          "output_type": "execute_result"
        }
      ]
    },
    {
      "cell_type": "code",
      "metadata": {
        "colab": {
          "base_uri": "https://localhost:8080/",
          "height": 431
        },
        "id": "V3AiYNqxfocH",
        "outputId": "6e2cebc5-b19a-46de-d8e5-96527340d08d"
      },
      "source": [
        "plot_cm(pd.Series(npYtest[:,].flatten()), pd.Series(pred_mlp4.flatten()))"
      ],
      "execution_count": null,
      "outputs": [
        {
          "name": "stdout",
          "output_type": "stream",
          "text": [
            "Sem acidente previsto e ocorrido (True Negatives):  56225\n",
            "Com acidente previsto, mas não ocorrido (False Positives):  956\n",
            "Sem acidente previsto, mas ocorrido (False Negatives):  3408\n",
            "Com acidente previsto e ocorrido (True Positives):  227\n",
            "Total de acidentes:  3635\n"
          ]
        },
        {
          "data": {
            "image/png": "[encoded data removed]",
            "text/plain": [
              "<Figure size 360x360 with 2 Axes>"
            ]
          },
          "metadata": {
            "needs_background": "light"
          },
          "output_type": "display_data"
        }
      ]
    }
  ]
}